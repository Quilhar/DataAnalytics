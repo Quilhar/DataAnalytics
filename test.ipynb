{
 "cells": [
  {
   "cell_type": "code",
   "execution_count": null,
   "id": "1af3c1cb",
   "metadata": {},
   "outputs": [],
   "source": [
    "import data_analytics_lib as dal\n"
   ]
  },
  {
   "cell_type": "code",
   "execution_count": 7,
   "id": "f9b1a9a8",
   "metadata": {},
   "outputs": [
    {
     "data": {
      "text/plain": [
       "6.0"
      ]
     },
     "execution_count": 7,
     "metadata": {},
     "output_type": "execute_result"
    }
   ],
   "source": [
    "setx = [3, 5, 6, 8, 12, 2]\n",
    "\n",
    "sorted_data = dal.stats(setx)\n",
    "\n",
    "sorted_data['mean']"
   ]
  }
 ],
 "metadata": {
  "kernelspec": {
   "display_name": "Python 3",
   "language": "python",
   "name": "python3"
  },
  "language_info": {
   "codemirror_mode": {
    "name": "ipython",
    "version": 3
   },
   "file_extension": ".py",
   "mimetype": "text/x-python",
   "name": "python",
   "nbconvert_exporter": "python",
   "pygments_lexer": "ipython3",
   "version": "3.13.7"
  }
 },
 "nbformat": 4,
 "nbformat_minor": 5
}
