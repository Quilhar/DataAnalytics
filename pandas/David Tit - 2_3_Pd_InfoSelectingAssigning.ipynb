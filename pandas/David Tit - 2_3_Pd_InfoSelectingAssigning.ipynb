{
  "cells": [
    {
      "cell_type": "markdown",
      "metadata": {
        "id": "ixmLpNGAbhjx"
      },
      "source": [
        "# How to access the data\n"
      ]
    },
    {
      "cell_type": "markdown",
      "metadata": {
        "id": "tugH9Dpg0qGk"
      },
      "source": [
        "## Import needed libraries"
      ]
    },
    {
      "cell_type": "code",
      "execution_count": 1,
      "metadata": {
        "id": "JbVIYWqvbaz_"
      },
      "outputs": [],
      "source": [
        "import pandas as pd\n",
        "import numpy as np"
      ]
    },
    {
      "cell_type": "markdown",
      "metadata": {
        "id": "x-838zM2Go84"
      },
      "source": [
        "## Reading data from file\n",
        "Based on the type of file you're reading from use the appropriate Pandas method to read in the file\n",
        "\n"
      ]
    },
    {
      "cell_type": "code",
      "execution_count": 8,
      "metadata": {
        "id": "-C3I_CsZGfPz"
      },
      "outputs": [
        {
          "name": "stdout",
          "output_type": "stream",
          "text": [
            "<class 'pandas.core.frame.DataFrame'>\n",
            "RangeIndex: 26428 entries, 0 to 26427\n",
            "Data columns (total 5 columns):\n",
            " #   Column    Non-Null Count  Dtype \n",
            "---  ------    --------------  ----- \n",
            " 0   yearID    26428 non-null  int64 \n",
            " 1   teamID    26428 non-null  object\n",
            " 2   lgID      26428 non-null  object\n",
            " 3   playerID  26428 non-null  object\n",
            " 4   salary    26428 non-null  int64 \n",
            "dtypes: int64(2), object(3)\n",
            "memory usage: 1.0+ MB\n"
          ]
        }
      ],
      "source": [
        "# load the data from Salaries.csv\n",
        "\n",
        "salaries_df = pd.read_csv('Salaries.csv')\n",
        "\n",
        "salaries_df.info()"
      ]
    },
    {
      "cell_type": "markdown",
      "metadata": {
        "id": "leD3SLdxLN1O"
      },
      "source": [
        "# Basic dataframe information"
      ]
    },
    {
      "cell_type": "markdown",
      "metadata": {
        "id": "yijX97iFy8Te"
      },
      "source": [
        "## Dataframe Info"
      ]
    },
    {
      "cell_type": "markdown",
      "metadata": {
        "id": "D1ZJHqrBzBg9"
      },
      "source": [
        "###  [`df.shape`](https://pandas.pydata.org/docs/reference/api/pandas.DataFrame.shape.html) and  [`df.info()`](https://pandas.pydata.org/docs/reference/api/pandas.DataFrame.info.html)\n",
        "\n",
        "\n",
        "---\n",
        "\n",
        "\n",
        "`df.shape`\n",
        "\n",
        "Returns a tuple representing the dimensionality of a DataFrame or Series. This tuple provides the number of rows and columns for a DataFrame, or the number of elements for a Series.\n",
        "\n",
        "\n",
        "---\n",
        "\n",
        "\n",
        "`.info()`\n",
        "\n",
        "Provides a concise summary of a DataFrame. This summary is printed to the console or a specified buffer and includes:\n",
        "* **Index data type**: Information about the DataFrame's index.\n",
        "* **Column information**: For each column:\n",
        "    * Column name.\n",
        "    * Number of non-**null values**, which helps identify missing data.\n",
        "    * Data type (Dtype) of the column (e.g., int64, float64, object for strings or mixed types).\n",
        "* **Memory usage**: The amount of memory consumed by the DataFrame.\n",
        "* **Overall data types summary**: A summary of the different data types present in the DataFrame.\n",
        "\n",
        "\n",
        "\n"
      ]
    },
    {
      "cell_type": "code",
      "execution_count": null,
      "metadata": {
        "id": "CY7hyQT-LNEw"
      },
      "outputs": [],
      "source": [
        "# use each method to display information about Portland Weather Dataframe\n",
        "\n"
      ]
    },
    {
      "cell_type": "markdown",
      "metadata": {
        "id": "lTbhMtLrrvAe"
      },
      "source": [
        "## Getting a glimpse of the Dataframe\n"
      ]
    },
    {
      "cell_type": "markdown",
      "metadata": {
        "id": "ovV0x8Fd4LRK"
      },
      "source": [
        "### [`df.head( )`](https://pandas.pydata.org/docs/reference/api/pandas.DataFrame.head.html),  [`df.tail( )`](https://pandas.pydata.org/docs/reference/api/pandas.DataFrame.tail.html), and [`df.sample( )`](https://pandas.pydata.org/docs/reference/api/pandas.DataFrame.sample.html)\n",
        "\n",
        "`df.head()`\n",
        "\n",
        "A method in the Pandas used to retrieve the first **n** rows of a DataFrame or Series. It provides a quick way to inspect the beginning of your data.\n",
        "\n",
        "* **Default behavior**: If no argument is provided, `head()` returns the first 5 rows by default.\n",
        "* **Customizable**: You can specify the number of rows to return by passing an integer argument n to the method, e.g., `df.head(10)` to get the first 10 rows.\n",
        "* **Use cases**: It is commonly used for:\n",
        "    * Quickly checking the structure and content of a DataFrame or Series after loading or manipulation.\n",
        "    * Verifying that data has been loaded correctly.\n",
        "    * Inspecting column names and data types in the initial records.\n",
        "\n",
        "\n",
        "---\n",
        "\n",
        "\n",
        "`df.tail()`\n",
        "\n",
        "A method in Pandas is used to return the last **n** rows of a DataFrame or Series. *By default, if no argument is provided, it returns the last 5 rows.*\n",
        "\n",
        "\n",
        "---\n",
        "\n",
        "`df.sample()`\n",
        "\n",
        "A method in Pandas used to generate a random sample of rows or columns from a DataFrame or Series. This is particularly useful when working with large datasets where analyzing the entire dataset is computationally expensive or unnecessary. *By default, if no argument is provided, it returns 1 randomly chosen row*.\n"
      ]
    },
    {
      "cell_type": "code",
      "execution_count": 13,
      "metadata": {
        "id": "9qyiXs9ZxEY1"
      },
      "outputs": [
        {
          "data": {
            "text/html": [
              "<div>\n",
              "<style scoped>\n",
              "    .dataframe tbody tr th:only-of-type {\n",
              "        vertical-align: middle;\n",
              "    }\n",
              "\n",
              "    .dataframe tbody tr th {\n",
              "        vertical-align: top;\n",
              "    }\n",
              "\n",
              "    .dataframe thead th {\n",
              "        text-align: right;\n",
              "    }\n",
              "</style>\n",
              "<table border=\"1\" class=\"dataframe\">\n",
              "  <thead>\n",
              "    <tr style=\"text-align: right;\">\n",
              "      <th></th>\n",
              "      <th>yearID</th>\n",
              "      <th>teamID</th>\n",
              "      <th>lgID</th>\n",
              "      <th>playerID</th>\n",
              "      <th>salary</th>\n",
              "    </tr>\n",
              "  </thead>\n",
              "  <tbody>\n",
              "    <tr>\n",
              "      <th>20173</th>\n",
              "      <td>2009</td>\n",
              "      <td>LAA</td>\n",
              "      <td>AL</td>\n",
              "      <td>mathije01</td>\n",
              "      <td>450000</td>\n",
              "    </tr>\n",
              "    <tr>\n",
              "      <th>8560</th>\n",
              "      <td>1996</td>\n",
              "      <td>CHA</td>\n",
              "      <td>AL</td>\n",
              "      <td>snopech01</td>\n",
              "      <td>125000</td>\n",
              "    </tr>\n",
              "    <tr>\n",
              "      <th>24536</th>\n",
              "      <td>2014</td>\n",
              "      <td>PIT</td>\n",
              "      <td>NL</td>\n",
              "      <td>sanchga01</td>\n",
              "      <td>2300000</td>\n",
              "    </tr>\n",
              "    <tr>\n",
              "      <th>2158</th>\n",
              "      <td>1988</td>\n",
              "      <td>HOU</td>\n",
              "      <td>NL</td>\n",
              "      <td>medvisc01</td>\n",
              "      <td>62500</td>\n",
              "    </tr>\n",
              "    <tr>\n",
              "      <th>16798</th>\n",
              "      <td>2005</td>\n",
              "      <td>KCA</td>\n",
              "      <td>AL</td>\n",
              "      <td>berroan01</td>\n",
              "      <td>500000</td>\n",
              "    </tr>\n",
              "    <tr>\n",
              "      <th>16873</th>\n",
              "      <td>2005</td>\n",
              "      <td>LAN</td>\n",
              "      <td>NL</td>\n",
              "      <td>repkoja01</td>\n",
              "      <td>316000</td>\n",
              "    </tr>\n",
              "    <tr>\n",
              "      <th>26095</th>\n",
              "      <td>2016</td>\n",
              "      <td>NYA</td>\n",
              "      <td>AL</td>\n",
              "      <td>cessalu01</td>\n",
              "      <td>507500</td>\n",
              "    </tr>\n",
              "    <tr>\n",
              "      <th>13036</th>\n",
              "      <td>2000</td>\n",
              "      <td>TBA</td>\n",
              "      <td>AL</td>\n",
              "      <td>rollsda01</td>\n",
              "      <td>200000</td>\n",
              "    </tr>\n",
              "    <tr>\n",
              "      <th>7750</th>\n",
              "      <td>1995</td>\n",
              "      <td>DET</td>\n",
              "      <td>AL</td>\n",
              "      <td>steveto01</td>\n",
              "      <td>109000</td>\n",
              "    </tr>\n",
              "    <tr>\n",
              "      <th>9957</th>\n",
              "      <td>1997</td>\n",
              "      <td>OAK</td>\n",
              "      <td>AL</td>\n",
              "      <td>johnsda05</td>\n",
              "      <td>172500</td>\n",
              "    </tr>\n",
              "  </tbody>\n",
              "</table>\n",
              "</div>"
            ],
            "text/plain": [
              "       yearID teamID lgID   playerID   salary\n",
              "20173    2009    LAA   AL  mathije01   450000\n",
              "8560     1996    CHA   AL  snopech01   125000\n",
              "24536    2014    PIT   NL  sanchga01  2300000\n",
              "2158     1988    HOU   NL  medvisc01    62500\n",
              "16798    2005    KCA   AL  berroan01   500000\n",
              "16873    2005    LAN   NL  repkoja01   316000\n",
              "26095    2016    NYA   AL  cessalu01   507500\n",
              "13036    2000    TBA   AL  rollsda01   200000\n",
              "7750     1995    DET   AL  steveto01   109000\n",
              "9957     1997    OAK   AL  johnsda05   172500"
            ]
          },
          "execution_count": 13,
          "metadata": {},
          "output_type": "execute_result"
        }
      ],
      "source": [
        "# use each method to inspect the first n rows and last n rows of the dataframe\n",
        "\n",
        "# salaries_df.head(10)\n",
        "# salaries_df.tail(10)\n",
        "salaries_df.sample(10)"
      ]
    },
    {
      "cell_type": "markdown",
      "metadata": {
        "id": "KApXFh4-MS3u"
      },
      "source": [
        "# Indexing, Selecting, and Assigning\n"
      ]
    },
    {
      "cell_type": "markdown",
      "metadata": {
        "id": "-xHTiCGkjDrW"
      },
      "source": [
        "Selecting specific values of a pandas DataFrame or Series to work on is an implicit step in almost any data operation you'll run, so one of the first things you need to learn in working with data in Python is how to go about selecting the data points relevant to you quickly and effectively."
      ]
    },
    {
      "cell_type": "markdown",
      "metadata": {
        "id": "7J1nx6OMclCt"
      },
      "source": [
        "## Accessing Columns\n",
        "In Python, we can access the property of an object by accessing it as an attribute. A `book` object, for example, might have a `title` property, which we can access by calling `book.title`. Columns in a pandas DataFrame work in much the same way.\n",
        "\n",
        "1.   As an attribute   ->          `df.col_name`\n",
        "\n",
        "If we have a Python dictionary, we can access its values using the indexing (`[]`) operator. We can do the same with columns in a DataFrame:\n",
        "\n",
        "\n",
        "\n",
        "\n",
        "2.   As a dictionary keyword  -> `df[\"col_name\"]`   \n",
        "\n"
      ]
    },
    {
      "cell_type": "code",
      "execution_count": 17,
      "metadata": {
        "id": "bGx7n6jedGIg"
      },
      "outputs": [
        {
          "data": {
            "text/plain": [
              "0          870000\n",
              "1          550000\n",
              "2          545000\n",
              "3          633333\n",
              "4          625000\n",
              "           ...   \n",
              "26423    10400000\n",
              "26424      524000\n",
              "26425      524900\n",
              "26426    21733615\n",
              "26427    14000000\n",
              "Name: salary, Length: 26428, dtype: int64"
            ]
          },
          "execution_count": 17,
          "metadata": {},
          "output_type": "execute_result"
        }
      ],
      "source": [
        "# use the attribute name only if there are no spaces in the name\n",
        "# salaries_df.salary\n",
        "\n",
        "salaries_df.salary"
      ]
    },
    {
      "cell_type": "code",
      "execution_count": 18,
      "metadata": {
        "id": "pNskp9rsjoMH"
      },
      "outputs": [
        {
          "data": {
            "text/plain": [
              "0          870000\n",
              "1          550000\n",
              "2          545000\n",
              "3          633333\n",
              "4          625000\n",
              "           ...   \n",
              "26423    10400000\n",
              "26424      524000\n",
              "26425      524900\n",
              "26426    21733615\n",
              "26427    14000000\n",
              "Name: salary, Length: 26428, dtype: int64"
            ]
          },
          "execution_count": 18,
          "metadata": {},
          "output_type": "execute_result"
        }
      ],
      "source": [
        "# alternative access option, and must use if there is a space in the name\n",
        "\n",
        "salaries_df['salary']"
      ]
    },
    {
      "cell_type": "markdown",
      "metadata": {
        "id": "Am3UNnEakojY"
      },
      "source": [
        "## Indexing in Pandas\n",
        "\n",
        "The indexing operator and attribute selection are nice because they work just like they do in the rest of the Python ecosystem. As a novice, this makes them easy to pick up and use. However, pandas has its own accessor operators, `loc` and `iloc`. For more advanced operations, these are the ones you're supposed to be using.\n",
        "\n"
      ]
    },
    {
      "cell_type": "markdown",
      "metadata": {
        "id": "_xZFwQsImUkX"
      },
      "source": [
        "### Index-Based Selection\n",
        "\n",
        "Single Row/Col\n",
        "```\n",
        "df.iloc[row, col]\n",
        "```\n",
        "Multiple Rows/Cols\n",
        "```\n",
        "df.iloc[row_start:[row_stop], col_start:[col_stop]]\n",
        "```\n",
        "Pandas indexing works in one of two paradigms. The first is index-based selection: selecting data based on its numerical position in the data. `iloc` follows this paradigm.\n",
        "\n",
        "Both `loc` and `iloc` are row-first, column-second. This means that it's marginally easier to retrieve rows, and marginally harder to get retrieve columns.\n",
        "\n",
        "To select the first row of data in a DataFrame, we may use the following:"
      ]
    },
    {
      "cell_type": "code",
      "execution_count": 24,
      "metadata": {
        "id": "7XSbMsw2mgRw"
      },
      "outputs": [
        {
          "data": {
            "text/plain": [
              "yearID           1985\n",
              "teamID            ATL\n",
              "lgID               NL\n",
              "playerID    barkele01\n",
              "salary         870000\n",
              "Name: 0, dtype: object"
            ]
          },
          "execution_count": 24,
          "metadata": {},
          "output_type": "execute_result"
        }
      ],
      "source": [
        "# get the first row of the dataframe\n",
        "\n",
        "salaries_df.iloc[0]"
      ]
    },
    {
      "cell_type": "markdown",
      "metadata": {
        "id": "Osn48FGgbw-D"
      },
      "source": [
        "To get a column with `iloc`, we can do the following:"
      ]
    },
    {
      "cell_type": "code",
      "execution_count": 27,
      "metadata": {
        "id": "hIbq3CWumlZA"
      },
      "outputs": [
        {
          "data": {
            "text/plain": [
              "0        1985\n",
              "1        1985\n",
              "2        1985\n",
              "3        1985\n",
              "4        1985\n",
              "         ... \n",
              "26423    2016\n",
              "26424    2016\n",
              "26425    2016\n",
              "26426    2016\n",
              "26427    2016\n",
              "Name: yearID, Length: 26428, dtype: int64"
            ]
          },
          "execution_count": 27,
          "metadata": {},
          "output_type": "execute_result"
        }
      ],
      "source": [
        "# get all rows of the first column\n",
        "\n",
        "salaries_df.iloc[:, 0]"
      ]
    },
    {
      "cell_type": "markdown",
      "metadata": {
        "id": "Qkz7eRzVc1Gs"
      },
      "source": [
        "On its own, the `:` operator, which also comes from native Python, means \"everything\". When combined with other selectors, however, it can be used to indicate a range of values."
      ]
    },
    {
      "cell_type": "code",
      "execution_count": 29,
      "metadata": {
        "id": "VVP58A6tdB8G"
      },
      "outputs": [
        {
          "data": {
            "text/plain": [
              "0    870000\n",
              "1    550000\n",
              "2    545000\n",
              "Name: salary, dtype: int64"
            ]
          },
          "execution_count": 29,
          "metadata": {},
          "output_type": "execute_result"
        }
      ],
      "source": [
        "# select the first 3 rows of the 'salary' column\n",
        "\n",
        "salaries_df.iloc[:3, 4]"
      ]
    },
    {
      "cell_type": "markdown",
      "metadata": {
        "id": "rOcV2lpKdYz6"
      },
      "source": [
        "It's also possible to pass a list:"
      ]
    },
    {
      "cell_type": "code",
      "execution_count": 31,
      "metadata": {
        "id": "lX8A4_ASde3F"
      },
      "outputs": [
        {
          "data": {
            "text/plain": [
              "0       870000\n",
              "100     727500\n",
              "2000     62500\n",
              "Name: salary, dtype: int64"
            ]
          },
          "execution_count": 31,
          "metadata": {},
          "output_type": "execute_result"
        }
      ],
      "source": [
        "# select the first 3 rows of the 'salary' column, using a list of rows\n",
        "\n",
        "salaries_df.iloc[[0, 100, 2000], 4]"
      ]
    },
    {
      "cell_type": "markdown",
      "metadata": {
        "id": "N_rWaugsdsta"
      },
      "source": [
        "Finally, it's worth knowing that negative numbers can be used in selection. This will start counting forwards from the end of the values."
      ]
    },
    {
      "cell_type": "code",
      "execution_count": null,
      "metadata": {
        "id": "iBQyFlPRducg"
      },
      "outputs": [],
      "source": [
        "# get the last 5 rows of the dataframe\n",
        "\n"
      ]
    },
    {
      "cell_type": "markdown",
      "metadata": {
        "id": "SmlyD4xDd2Jl"
      },
      "source": [
        "### Label-base Selection\n",
        "\n",
        "The second method for attribute selection is the one followed by the `loc` operator: label-based selection. In this method, it's the data index value, not its position, which matters. The start and stop values will be the row(index)/column names rather than their index value."
      ]
    },
    {
      "cell_type": "code",
      "execution_count": null,
      "metadata": {
        "id": "HDLwZX5ieaim"
      },
      "outputs": [
        {
          "data": {
            "text/plain": [
              "'barkele01'"
            ]
          },
          "execution_count": 32,
          "metadata": {},
          "output_type": "execute_result"
        }
      ],
      "source": [
        "# get the first entry in 'playerID'\n",
        "\n",
        "player = salaries_df.loc[0, 'playerID']"
      ]
    },
    {
      "cell_type": "markdown",
      "metadata": {
        "id": "QfVw39oSeu5N"
      },
      "source": [
        "`iloc` is conceptually simpler than loc because it ignores the dataset's indices. When we use `iloc` we treat the dataset like a big matrix (a list of lists), one that we have to index into by position. `loc`, by contrast, uses the information in the indices to do its work. Since your dataset usually has meaningful indices, it's usually easier to do things using `loc` instead."
      ]
    },
    {
      "cell_type": "code",
      "execution_count": 38,
      "metadata": {
        "id": "Qnxg_FeYe3Qh"
      },
      "outputs": [
        {
          "data": {
            "text/html": [
              "<div>\n",
              "<style scoped>\n",
              "    .dataframe tbody tr th:only-of-type {\n",
              "        vertical-align: middle;\n",
              "    }\n",
              "\n",
              "    .dataframe tbody tr th {\n",
              "        vertical-align: top;\n",
              "    }\n",
              "\n",
              "    .dataframe thead th {\n",
              "        text-align: right;\n",
              "    }\n",
              "</style>\n",
              "<table border=\"1\" class=\"dataframe\">\n",
              "  <thead>\n",
              "    <tr style=\"text-align: right;\">\n",
              "      <th></th>\n",
              "      <th>lgID</th>\n",
              "      <th>playerID</th>\n",
              "      <th>salary</th>\n",
              "    </tr>\n",
              "  </thead>\n",
              "  <tbody>\n",
              "    <tr>\n",
              "      <th>4912</th>\n",
              "      <td>AL</td>\n",
              "      <td>darwida01</td>\n",
              "      <td>3350000</td>\n",
              "    </tr>\n",
              "    <tr>\n",
              "      <th>568</th>\n",
              "      <td>NL</td>\n",
              "      <td>olwined01</td>\n",
              "      <td>60000</td>\n",
              "    </tr>\n",
              "    <tr>\n",
              "      <th>1389</th>\n",
              "      <td>AL</td>\n",
              "      <td>whitede03</td>\n",
              "      <td>70000</td>\n",
              "    </tr>\n",
              "    <tr>\n",
              "      <th>23401</th>\n",
              "      <td>AL</td>\n",
              "      <td>peraljh01</td>\n",
              "      <td>6000000</td>\n",
              "    </tr>\n",
              "    <tr>\n",
              "      <th>20644</th>\n",
              "      <td>NL</td>\n",
              "      <td>ryalru01</td>\n",
              "      <td>401000</td>\n",
              "    </tr>\n",
              "    <tr>\n",
              "      <th>19933</th>\n",
              "      <td>AL</td>\n",
              "      <td>jenksbo01</td>\n",
              "      <td>5600000</td>\n",
              "    </tr>\n",
              "    <tr>\n",
              "      <th>23514</th>\n",
              "      <td>NL</td>\n",
              "      <td>uribeju01</td>\n",
              "      <td>7295911</td>\n",
              "    </tr>\n",
              "    <tr>\n",
              "      <th>16342</th>\n",
              "      <td>NL</td>\n",
              "      <td>perezne01</td>\n",
              "      <td>2750000</td>\n",
              "    </tr>\n",
              "    <tr>\n",
              "      <th>5306</th>\n",
              "      <td>AL</td>\n",
              "      <td>ramosjo01</td>\n",
              "      <td>109000</td>\n",
              "    </tr>\n",
              "    <tr>\n",
              "      <th>12787</th>\n",
              "      <td>AL</td>\n",
              "      <td>ledeeri01</td>\n",
              "      <td>240000</td>\n",
              "    </tr>\n",
              "  </tbody>\n",
              "</table>\n",
              "</div>"
            ],
            "text/plain": [
              "      lgID   playerID   salary\n",
              "4912    AL  darwida01  3350000\n",
              "568     NL  olwined01    60000\n",
              "1389    AL  whitede03    70000\n",
              "23401   AL  peraljh01  6000000\n",
              "20644   NL   ryalru01   401000\n",
              "19933   AL  jenksbo01  5600000\n",
              "23514   NL  uribeju01  7295911\n",
              "16342   NL  perezne01  2750000\n",
              "5306    AL  ramosjo01   109000\n",
              "12787   AL  ledeeri01   240000"
            ]
          },
          "execution_count": 38,
          "metadata": {},
          "output_type": "execute_result"
        }
      ],
      "source": [
        "# get all the rows from the last 3 columns\n",
        "\n",
        "salaries_df.loc[:, \"lgID\": \"salary\"].sample(10)"
      ]
    },
    {
      "cell_type": "markdown",
      "metadata": {
        "id": "YuPoqOkWgr-p"
      },
      "source": [
        "### Choosing between `loc` and `iloc`\n",
        "\n",
        "When choosing or transitioning between `loc` and `iloc`, there is one \"gotcha\" worth keeping in mind, which is that the two methods use slightly different indexing schemes.\n",
        "\n",
        "`iloc` uses the Python stdlib indexing scheme, where the first element of the range is included and the last one excluded. So 0:10 will select entries 0,...,9. `loc`, meanwhile, indexes inclusively. So 0:10 will select entries 0,...,10.\n",
        "\n",
        "Why the change? Remember that `loc` can index any stdlib type: strings, for example. If we have a DataFrame with index values Apples, ..., Potatoes, ..., and we want to select \"all the alphabetical fruit choices between Apples and Potatoes\", then it's a lot more convenient to index `df.loc['Apples':'Potatoes']` than it is to index something like `df.loc['Apples', 'Potatoet']` (t coming after s in the alphabet).\n",
        "\n",
        "This is particularly confusing when the DataFrame index is a simple numerical list, e.g. 0,...,1000. In this case `df.iloc[0:1000]` will return 1000 entries, while `df.loc[0:1000]` return 1001 of them! To get 1000 elements using `loc`, you will need to go one lower and ask for `df.loc[0:999]`.\n",
        "\n",
        "Otherwise, the semantics of using `loc` are the same as those for `iloc`."
      ]
    },
    {
      "cell_type": "markdown",
      "metadata": {
        "id": "jBEySrbQhjJx"
      },
      "source": [
        "## Changing the Index\n",
        "\n",
        "Label-based selection derives its power from the labels in the index. Critically, the index we use is not immutable. We can manipulate the index in any way we see fit.\n",
        "\n",
        "The `set_index()` method can be used to do this\n",
        "\n",
        "        df.set_index('col_name')"
      ]
    },
    {
      "cell_type": "code",
      "execution_count": 40,
      "metadata": {
        "id": "KLwIENU0hxsv"
      },
      "outputs": [
        {
          "data": {
            "text/html": [
              "<div>\n",
              "<style scoped>\n",
              "    .dataframe tbody tr th:only-of-type {\n",
              "        vertical-align: middle;\n",
              "    }\n",
              "\n",
              "    .dataframe tbody tr th {\n",
              "        vertical-align: top;\n",
              "    }\n",
              "\n",
              "    .dataframe thead th {\n",
              "        text-align: right;\n",
              "    }\n",
              "</style>\n",
              "<table border=\"1\" class=\"dataframe\">\n",
              "  <thead>\n",
              "    <tr style=\"text-align: right;\">\n",
              "      <th></th>\n",
              "      <th>yearID</th>\n",
              "      <th>teamID</th>\n",
              "      <th>lgID</th>\n",
              "      <th>playerID</th>\n",
              "      <th>salary</th>\n",
              "    </tr>\n",
              "  </thead>\n",
              "  <tbody>\n",
              "    <tr>\n",
              "      <th>0</th>\n",
              "      <td>1985</td>\n",
              "      <td>ATL</td>\n",
              "      <td>NL</td>\n",
              "      <td>barkele01</td>\n",
              "      <td>870000</td>\n",
              "    </tr>\n",
              "    <tr>\n",
              "      <th>1</th>\n",
              "      <td>1985</td>\n",
              "      <td>ATL</td>\n",
              "      <td>NL</td>\n",
              "      <td>bedrost01</td>\n",
              "      <td>550000</td>\n",
              "    </tr>\n",
              "    <tr>\n",
              "      <th>2</th>\n",
              "      <td>1985</td>\n",
              "      <td>ATL</td>\n",
              "      <td>NL</td>\n",
              "      <td>benedbr01</td>\n",
              "      <td>545000</td>\n",
              "    </tr>\n",
              "    <tr>\n",
              "      <th>3</th>\n",
              "      <td>1985</td>\n",
              "      <td>ATL</td>\n",
              "      <td>NL</td>\n",
              "      <td>campri01</td>\n",
              "      <td>633333</td>\n",
              "    </tr>\n",
              "    <tr>\n",
              "      <th>4</th>\n",
              "      <td>1985</td>\n",
              "      <td>ATL</td>\n",
              "      <td>NL</td>\n",
              "      <td>ceronri01</td>\n",
              "      <td>625000</td>\n",
              "    </tr>\n",
              "    <tr>\n",
              "      <th>...</th>\n",
              "      <td>...</td>\n",
              "      <td>...</td>\n",
              "      <td>...</td>\n",
              "      <td>...</td>\n",
              "      <td>...</td>\n",
              "    </tr>\n",
              "    <tr>\n",
              "      <th>26423</th>\n",
              "      <td>2016</td>\n",
              "      <td>WAS</td>\n",
              "      <td>NL</td>\n",
              "      <td>strasst01</td>\n",
              "      <td>10400000</td>\n",
              "    </tr>\n",
              "    <tr>\n",
              "      <th>26424</th>\n",
              "      <td>2016</td>\n",
              "      <td>WAS</td>\n",
              "      <td>NL</td>\n",
              "      <td>taylomi02</td>\n",
              "      <td>524000</td>\n",
              "    </tr>\n",
              "    <tr>\n",
              "      <th>26425</th>\n",
              "      <td>2016</td>\n",
              "      <td>WAS</td>\n",
              "      <td>NL</td>\n",
              "      <td>treinbl01</td>\n",
              "      <td>524900</td>\n",
              "    </tr>\n",
              "    <tr>\n",
              "      <th>26426</th>\n",
              "      <td>2016</td>\n",
              "      <td>WAS</td>\n",
              "      <td>NL</td>\n",
              "      <td>werthja01</td>\n",
              "      <td>21733615</td>\n",
              "    </tr>\n",
              "    <tr>\n",
              "      <th>26427</th>\n",
              "      <td>2016</td>\n",
              "      <td>WAS</td>\n",
              "      <td>NL</td>\n",
              "      <td>zimmery01</td>\n",
              "      <td>14000000</td>\n",
              "    </tr>\n",
              "  </tbody>\n",
              "</table>\n",
              "<p>26428 rows × 5 columns</p>\n",
              "</div>"
            ],
            "text/plain": [
              "       yearID teamID lgID   playerID    salary\n",
              "0        1985    ATL   NL  barkele01    870000\n",
              "1        1985    ATL   NL  bedrost01    550000\n",
              "2        1985    ATL   NL  benedbr01    545000\n",
              "3        1985    ATL   NL   campri01    633333\n",
              "4        1985    ATL   NL  ceronri01    625000\n",
              "...       ...    ...  ...        ...       ...\n",
              "26423    2016    WAS   NL  strasst01  10400000\n",
              "26424    2016    WAS   NL  taylomi02    524000\n",
              "26425    2016    WAS   NL  treinbl01    524900\n",
              "26426    2016    WAS   NL  werthja01  21733615\n",
              "26427    2016    WAS   NL  zimmery01  14000000\n",
              "\n",
              "[26428 rows x 5 columns]"
            ]
          },
          "execution_count": 40,
          "metadata": {},
          "output_type": "execute_result"
        }
      ],
      "source": [
        "# Change the index of the salaries df to be the 'playerID'\n",
        "salaries_df.set_index('playerID')\n",
        "salaries_df"
      ]
    },
    {
      "cell_type": "markdown",
      "metadata": {
        "id": "fW1EpkhOib-j"
      },
      "source": [
        "This is useful if you can come up with an index for the dataset which is better than the current one.\n",
        "\n",
        "\n",
        "\n"
      ]
    },
    {
      "cell_type": "markdown",
      "metadata": {
        "id": "zhDxLS34jbKe"
      },
      "source": [
        "# Temporary vs Permanent Change\n",
        "\n",
        "Notice that if you display the dataframe, the change didn't last.  Many Pandas methods that make a change to the dataframe only do so temporarily.  To make the change permanent you have two choices:"
      ]
    },
    {
      "cell_type": "markdown",
      "metadata": {
        "id": "-eqbVDwOidTM"
      },
      "source": [
        "## Make a copy of the original Dataframe\n",
        "\n",
        "If you decide that you need to keep the original dataframe, make a **deep copy** of it first, then make changes to the deep copy. A deep copy creates a completely independent new DataFrame in memory, including copies of both the data and the index. Modifications made to the copied DataFrame will not affect the original, and vice versa. This is the default behavior when `deep=True` or when the `deep` parameter is omitted.\n",
        "\n",
        "```\n",
        "    df.copy(deep=True)    # deep=True is the default so not necessary\n",
        "```\n",
        "\n"
      ]
    },
    {
      "cell_type": "code",
      "execution_count": null,
      "metadata": {
        "id": "98cbB0e_l_wo"
      },
      "outputs": [
        {
          "data": {
            "text/html": [
              "<div>\n",
              "<style scoped>\n",
              "    .dataframe tbody tr th:only-of-type {\n",
              "        vertical-align: middle;\n",
              "    }\n",
              "\n",
              "    .dataframe tbody tr th {\n",
              "        vertical-align: top;\n",
              "    }\n",
              "\n",
              "    .dataframe thead th {\n",
              "        text-align: right;\n",
              "    }\n",
              "</style>\n",
              "<table border=\"1\" class=\"dataframe\">\n",
              "  <thead>\n",
              "    <tr style=\"text-align: right;\">\n",
              "      <th></th>\n",
              "      <th>yearID</th>\n",
              "      <th>teamID</th>\n",
              "      <th>lgID</th>\n",
              "      <th>salary</th>\n",
              "    </tr>\n",
              "    <tr>\n",
              "      <th>playerID</th>\n",
              "      <th></th>\n",
              "      <th></th>\n",
              "      <th></th>\n",
              "      <th></th>\n",
              "    </tr>\n",
              "  </thead>\n",
              "  <tbody>\n",
              "    <tr>\n",
              "      <th>barkele01</th>\n",
              "      <td>1985</td>\n",
              "      <td>ATL</td>\n",
              "      <td>NL</td>\n",
              "      <td>870000</td>\n",
              "    </tr>\n",
              "    <tr>\n",
              "      <th>bedrost01</th>\n",
              "      <td>1985</td>\n",
              "      <td>ATL</td>\n",
              "      <td>NL</td>\n",
              "      <td>550000</td>\n",
              "    </tr>\n",
              "    <tr>\n",
              "      <th>benedbr01</th>\n",
              "      <td>1985</td>\n",
              "      <td>ATL</td>\n",
              "      <td>NL</td>\n",
              "      <td>545000</td>\n",
              "    </tr>\n",
              "    <tr>\n",
              "      <th>campri01</th>\n",
              "      <td>1985</td>\n",
              "      <td>ATL</td>\n",
              "      <td>NL</td>\n",
              "      <td>633333</td>\n",
              "    </tr>\n",
              "    <tr>\n",
              "      <th>ceronri01</th>\n",
              "      <td>1985</td>\n",
              "      <td>ATL</td>\n",
              "      <td>NL</td>\n",
              "      <td>625000</td>\n",
              "    </tr>\n",
              "    <tr>\n",
              "      <th>...</th>\n",
              "      <td>...</td>\n",
              "      <td>...</td>\n",
              "      <td>...</td>\n",
              "      <td>...</td>\n",
              "    </tr>\n",
              "    <tr>\n",
              "      <th>strasst01</th>\n",
              "      <td>2016</td>\n",
              "      <td>WAS</td>\n",
              "      <td>NL</td>\n",
              "      <td>10400000</td>\n",
              "    </tr>\n",
              "    <tr>\n",
              "      <th>taylomi02</th>\n",
              "      <td>2016</td>\n",
              "      <td>WAS</td>\n",
              "      <td>NL</td>\n",
              "      <td>524000</td>\n",
              "    </tr>\n",
              "    <tr>\n",
              "      <th>treinbl01</th>\n",
              "      <td>2016</td>\n",
              "      <td>WAS</td>\n",
              "      <td>NL</td>\n",
              "      <td>524900</td>\n",
              "    </tr>\n",
              "    <tr>\n",
              "      <th>werthja01</th>\n",
              "      <td>2016</td>\n",
              "      <td>WAS</td>\n",
              "      <td>NL</td>\n",
              "      <td>21733615</td>\n",
              "    </tr>\n",
              "    <tr>\n",
              "      <th>zimmery01</th>\n",
              "      <td>2016</td>\n",
              "      <td>WAS</td>\n",
              "      <td>NL</td>\n",
              "      <td>14000000</td>\n",
              "    </tr>\n",
              "  </tbody>\n",
              "</table>\n",
              "<p>26428 rows × 4 columns</p>\n",
              "</div>"
            ],
            "text/plain": [
              "           yearID teamID lgID    salary\n",
              "playerID                               \n",
              "barkele01    1985    ATL   NL    870000\n",
              "bedrost01    1985    ATL   NL    550000\n",
              "benedbr01    1985    ATL   NL    545000\n",
              "campri01     1985    ATL   NL    633333\n",
              "ceronri01    1985    ATL   NL    625000\n",
              "...           ...    ...  ...       ...\n",
              "strasst01    2016    WAS   NL  10400000\n",
              "taylomi02    2016    WAS   NL    524000\n",
              "treinbl01    2016    WAS   NL    524900\n",
              "werthja01    2016    WAS   NL  21733615\n",
              "zimmery01    2016    WAS   NL  14000000\n",
              "\n",
              "[26428 rows x 4 columns]"
            ]
          },
          "execution_count": 41,
          "metadata": {},
          "output_type": "execute_result"
        }
      ],
      "source": [
        "# make a copy of the current dataframe and set the indices to the playerID\n",
        "\n",
        "salaries_df_copy1 = salaries_df.copy()\n",
        "\n",
        "salaries_df_copy1.set_index('playerID', inplace=True)\n",
        "\n",
        "salaries_df_copy1"
      ]
    },
    {
      "cell_type": "markdown",
      "metadata": {
        "id": "p9PEl0DXjlO9"
      },
      "source": [
        "## Method Keyword Parameter\n",
        "\n",
        "If the method makes a change that is not persistant, it will have an parameter that can be used to make it so. To make the change to our index values persistant we can add the `inplace = True` parameter.\n",
        "\n",
        "**** When choosing this option you will lose access to the original dataframe"
      ]
    },
    {
      "cell_type": "code",
      "execution_count": null,
      "metadata": {
        "id": "MPhPvAUckY8J"
      },
      "outputs": [],
      "source": [
        "# make a copy of the current dataframe and set the indices to the 'teamID'\n",
        "\n"
      ]
    },
    {
      "cell_type": "markdown",
      "metadata": {
        "id": "aV8YnSJDnLEj"
      },
      "source": [
        "# Conditional Selection\n",
        "\n",
        "So far we've been indexing the data, using structural properties of the DataFrame itself. To do interesting things with the data, however, we often need to ask questions based on conditions."
      ]
    },
    {
      "cell_type": "code",
      "execution_count": null,
      "metadata": {
        "id": "lz7BRd99owNa"
      },
      "outputs": [
        {
          "data": {
            "text/plain": [
              "0        False\n",
              "1        False\n",
              "2        False\n",
              "3        False\n",
              "4        False\n",
              "         ...  \n",
              "26423    False\n",
              "26424    False\n",
              "26425    False\n",
              "26426    False\n",
              "26427    False\n",
              "Name: teamID, Length: 26428, dtype: bool"
            ]
          },
          "execution_count": 42,
          "metadata": {},
          "output_type": "execute_result"
        }
      ],
      "source": [
        "# get the salary information for the Chicago Cubs teamID -> 'CHN'\n",
        "\n",
        "salaries_df.teamID == 'CHN'\n",
        "\n"
      ]
    },
    {
      "cell_type": "markdown",
      "metadata": {
        "id": "b05nFWN7pW39"
      },
      "source": [
        "## Simple Conditionals\n",
        "\n",
        "This operation produced a Series of True/False booleans based on the country of each record. This result can then be used inside of `loc` to select the relevant data"
      ]
    },
    {
      "cell_type": "code",
      "execution_count": 45,
      "metadata": {
        "id": "67qUYf2mp54y"
      },
      "outputs": [
        {
          "data": {
            "text/html": [
              "<div>\n",
              "<style scoped>\n",
              "    .dataframe tbody tr th:only-of-type {\n",
              "        vertical-align: middle;\n",
              "    }\n",
              "\n",
              "    .dataframe tbody tr th {\n",
              "        vertical-align: top;\n",
              "    }\n",
              "\n",
              "    .dataframe thead th {\n",
              "        text-align: right;\n",
              "    }\n",
              "</style>\n",
              "<table border=\"1\" class=\"dataframe\">\n",
              "  <thead>\n",
              "    <tr style=\"text-align: right;\">\n",
              "      <th></th>\n",
              "      <th>yearID</th>\n",
              "      <th>teamID</th>\n",
              "      <th>lgID</th>\n",
              "      <th>playerID</th>\n",
              "      <th>salary</th>\n",
              "    </tr>\n",
              "  </thead>\n",
              "  <tbody>\n",
              "    <tr>\n",
              "      <th>44</th>\n",
              "      <td>1985</td>\n",
              "      <td>BOS</td>\n",
              "      <td>AL</td>\n",
              "      <td>armasto01</td>\n",
              "      <td>915000</td>\n",
              "    </tr>\n",
              "    <tr>\n",
              "      <th>45</th>\n",
              "      <td>1985</td>\n",
              "      <td>BOS</td>\n",
              "      <td>AL</td>\n",
              "      <td>barrema02</td>\n",
              "      <td>272500</td>\n",
              "    </tr>\n",
              "    <tr>\n",
              "      <th>46</th>\n",
              "      <td>1985</td>\n",
              "      <td>BOS</td>\n",
              "      <td>AL</td>\n",
              "      <td>boggswa01</td>\n",
              "      <td>1000000</td>\n",
              "    </tr>\n",
              "    <tr>\n",
              "      <th>47</th>\n",
              "      <td>1985</td>\n",
              "      <td>BOS</td>\n",
              "      <td>AL</td>\n",
              "      <td>bordiri01</td>\n",
              "      <td>115000</td>\n",
              "    </tr>\n",
              "    <tr>\n",
              "      <th>48</th>\n",
              "      <td>1985</td>\n",
              "      <td>BOS</td>\n",
              "      <td>AL</td>\n",
              "      <td>boydoi01</td>\n",
              "      <td>177500</td>\n",
              "    </tr>\n",
              "    <tr>\n",
              "      <th>...</th>\n",
              "      <td>...</td>\n",
              "      <td>...</td>\n",
              "      <td>...</td>\n",
              "      <td>...</td>\n",
              "      <td>...</td>\n",
              "    </tr>\n",
              "    <tr>\n",
              "      <th>25683</th>\n",
              "      <td>2016</td>\n",
              "      <td>BOS</td>\n",
              "      <td>AL</td>\n",
              "      <td>ueharko01</td>\n",
              "      <td>9000000</td>\n",
              "    </tr>\n",
              "    <tr>\n",
              "      <th>25684</th>\n",
              "      <td>2016</td>\n",
              "      <td>BOS</td>\n",
              "      <td>AL</td>\n",
              "      <td>vazquch01</td>\n",
              "      <td>513000</td>\n",
              "    </tr>\n",
              "    <tr>\n",
              "      <th>25685</th>\n",
              "      <td>2016</td>\n",
              "      <td>BOS</td>\n",
              "      <td>AL</td>\n",
              "      <td>workmbr01</td>\n",
              "      <td>539500</td>\n",
              "    </tr>\n",
              "    <tr>\n",
              "      <th>25686</th>\n",
              "      <td>2016</td>\n",
              "      <td>BOS</td>\n",
              "      <td>AL</td>\n",
              "      <td>wrighst01</td>\n",
              "      <td>514500</td>\n",
              "    </tr>\n",
              "    <tr>\n",
              "      <th>25687</th>\n",
              "      <td>2016</td>\n",
              "      <td>BOS</td>\n",
              "      <td>AL</td>\n",
              "      <td>youngch04</td>\n",
              "      <td>6500000</td>\n",
              "    </tr>\n",
              "  </tbody>\n",
              "</table>\n",
              "<p>944 rows × 5 columns</p>\n",
              "</div>"
            ],
            "text/plain": [
              "       yearID teamID lgID   playerID   salary\n",
              "44       1985    BOS   AL  armasto01   915000\n",
              "45       1985    BOS   AL  barrema02   272500\n",
              "46       1985    BOS   AL  boggswa01  1000000\n",
              "47       1985    BOS   AL  bordiri01   115000\n",
              "48       1985    BOS   AL   boydoi01   177500\n",
              "...       ...    ...  ...        ...      ...\n",
              "25683    2016    BOS   AL  ueharko01  9000000\n",
              "25684    2016    BOS   AL  vazquch01   513000\n",
              "25685    2016    BOS   AL  workmbr01   539500\n",
              "25686    2016    BOS   AL  wrighst01   514500\n",
              "25687    2016    BOS   AL  youngch04  6500000\n",
              "\n",
              "[944 rows x 5 columns]"
            ]
          },
          "execution_count": 45,
          "metadata": {},
          "output_type": "execute_result"
        }
      ],
      "source": [
        "# get the salary information for the Cubs using loc\n",
        "\n",
        "salaries_df.loc[salaries_df.teamID == 'BOS']"
      ]
    },
    {
      "cell_type": "markdown",
      "metadata": {
        "id": "Zub39qWMqeZh"
      },
      "source": [
        "This DataFrame has ~900 rows. The original had ~26,000. That means that around 3% of salary data is from the Chicago Cubs.\n",
        "\n"
      ]
    },
    {
      "cell_type": "markdown",
      "metadata": {
        "id": "TisIDAZrunET"
      },
      "source": [
        "## Compound Conditionals with `and`\n",
        "\n",
        "If we further wanted to know whose salaries were between 100,000 **and** 500,000 dollars. We can use the **ampersand** (`&`) to bring the two questions together"
      ]
    },
    {
      "cell_type": "code",
      "execution_count": 49,
      "metadata": {
        "id": "QgVwxGpsrWap"
      },
      "outputs": [
        {
          "data": {
            "text/html": [
              "<div>\n",
              "<style scoped>\n",
              "    .dataframe tbody tr th:only-of-type {\n",
              "        vertical-align: middle;\n",
              "    }\n",
              "\n",
              "    .dataframe tbody tr th {\n",
              "        vertical-align: top;\n",
              "    }\n",
              "\n",
              "    .dataframe thead th {\n",
              "        text-align: right;\n",
              "    }\n",
              "</style>\n",
              "<table border=\"1\" class=\"dataframe\">\n",
              "  <thead>\n",
              "    <tr style=\"text-align: right;\">\n",
              "      <th></th>\n",
              "      <th>yearID</th>\n",
              "      <th>teamID</th>\n",
              "      <th>lgID</th>\n",
              "      <th>playerID</th>\n",
              "      <th>salary</th>\n",
              "    </tr>\n",
              "  </thead>\n",
              "  <tbody>\n",
              "    <tr>\n",
              "      <th>45</th>\n",
              "      <td>1985</td>\n",
              "      <td>BOS</td>\n",
              "      <td>AL</td>\n",
              "      <td>barrema02</td>\n",
              "      <td>272500</td>\n",
              "    </tr>\n",
              "    <tr>\n",
              "      <th>47</th>\n",
              "      <td>1985</td>\n",
              "      <td>BOS</td>\n",
              "      <td>AL</td>\n",
              "      <td>bordiri01</td>\n",
              "      <td>115000</td>\n",
              "    </tr>\n",
              "    <tr>\n",
              "      <th>48</th>\n",
              "      <td>1985</td>\n",
              "      <td>BOS</td>\n",
              "      <td>AL</td>\n",
              "      <td>boydoi01</td>\n",
              "      <td>177500</td>\n",
              "    </tr>\n",
              "    <tr>\n",
              "      <th>51</th>\n",
              "      <td>1985</td>\n",
              "      <td>BOS</td>\n",
              "      <td>AL</td>\n",
              "      <td>clemero02</td>\n",
              "      <td>140000</td>\n",
              "    </tr>\n",
              "    <tr>\n",
              "      <th>52</th>\n",
              "      <td>1985</td>\n",
              "      <td>BOS</td>\n",
              "      <td>AL</td>\n",
              "      <td>crawfst01</td>\n",
              "      <td>160000</td>\n",
              "    </tr>\n",
              "    <tr>\n",
              "      <th>...</th>\n",
              "      <td>...</td>\n",
              "      <td>...</td>\n",
              "      <td>...</td>\n",
              "      <td>...</td>\n",
              "      <td>...</td>\n",
              "    </tr>\n",
              "    <tr>\n",
              "      <th>22384</th>\n",
              "      <td>2012</td>\n",
              "      <td>BOS</td>\n",
              "      <td>AL</td>\n",
              "      <td>bowdemi01</td>\n",
              "      <td>484000</td>\n",
              "    </tr>\n",
              "    <tr>\n",
              "      <th>22386</th>\n",
              "      <td>2012</td>\n",
              "      <td>BOS</td>\n",
              "      <td>AL</td>\n",
              "      <td>carpech02</td>\n",
              "      <td>482000</td>\n",
              "    </tr>\n",
              "    <tr>\n",
              "      <th>22388</th>\n",
              "      <td>2012</td>\n",
              "      <td>BOS</td>\n",
              "      <td>AL</td>\n",
              "      <td>doubrfe01</td>\n",
              "      <td>484000</td>\n",
              "    </tr>\n",
              "    <tr>\n",
              "      <th>22393</th>\n",
              "      <td>2012</td>\n",
              "      <td>BOS</td>\n",
              "      <td>AL</td>\n",
              "      <td>kalisry01</td>\n",
              "      <td>483000</td>\n",
              "    </tr>\n",
              "    <tr>\n",
              "      <th>23240</th>\n",
              "      <td>2013</td>\n",
              "      <td>BOS</td>\n",
              "      <td>AL</td>\n",
              "      <td>middlwi01</td>\n",
              "      <td>498000</td>\n",
              "    </tr>\n",
              "  </tbody>\n",
              "</table>\n",
              "<p>275 rows × 5 columns</p>\n",
              "</div>"
            ],
            "text/plain": [
              "       yearID teamID lgID   playerID  salary\n",
              "45       1985    BOS   AL  barrema02  272500\n",
              "47       1985    BOS   AL  bordiri01  115000\n",
              "48       1985    BOS   AL   boydoi01  177500\n",
              "51       1985    BOS   AL  clemero02  140000\n",
              "52       1985    BOS   AL  crawfst01  160000\n",
              "...       ...    ...  ...        ...     ...\n",
              "22384    2012    BOS   AL  bowdemi01  484000\n",
              "22386    2012    BOS   AL  carpech02  482000\n",
              "22388    2012    BOS   AL  doubrfe01  484000\n",
              "22393    2012    BOS   AL  kalisry01  483000\n",
              "23240    2013    BOS   AL  middlwi01  498000\n",
              "\n",
              "[275 rows x 5 columns]"
            ]
          },
          "execution_count": 49,
          "metadata": {},
          "output_type": "execute_result"
        }
      ],
      "source": [
        "# Find the Cubs players whose salaries were between $100000 and $500000\n",
        "\n",
        "salaries_df.loc[(salaries_df.teamID == 'BOS') & ((salaries_df.salary > 100000) & (salaries_df.salary < 500000))]"
      ]
    },
    {
      "cell_type": "markdown",
      "metadata": {
        "id": "iEp8OGFztwCL"
      },
      "source": [
        "## Compound Conditionals with `or`\n",
        "\n",
        "Suppose we'll buy any player from the American League with a salary less than 100,000 **or** greater than 10,000,000. For an \"or\" condition we use a **pipe** (`|`)"
      ]
    },
    {
      "cell_type": "code",
      "execution_count": 50,
      "metadata": {
        "id": "baflke40sYjC"
      },
      "outputs": [
        {
          "data": {
            "text/html": [
              "<div>\n",
              "<style scoped>\n",
              "    .dataframe tbody tr th:only-of-type {\n",
              "        vertical-align: middle;\n",
              "    }\n",
              "\n",
              "    .dataframe tbody tr th {\n",
              "        vertical-align: top;\n",
              "    }\n",
              "\n",
              "    .dataframe thead th {\n",
              "        text-align: right;\n",
              "    }\n",
              "</style>\n",
              "<table border=\"1\" class=\"dataframe\">\n",
              "  <thead>\n",
              "    <tr style=\"text-align: right;\">\n",
              "      <th></th>\n",
              "      <th>yearID</th>\n",
              "      <th>teamID</th>\n",
              "      <th>lgID</th>\n",
              "      <th>playerID</th>\n",
              "      <th>salary</th>\n",
              "    </tr>\n",
              "  </thead>\n",
              "  <tbody>\n",
              "    <tr>\n",
              "      <th>40</th>\n",
              "      <td>1985</td>\n",
              "      <td>BAL</td>\n",
              "      <td>AL</td>\n",
              "      <td>sheetla01</td>\n",
              "      <td>60000</td>\n",
              "    </tr>\n",
              "    <tr>\n",
              "      <th>74</th>\n",
              "      <td>1985</td>\n",
              "      <td>CAL</td>\n",
              "      <td>AL</td>\n",
              "      <td>clibust02</td>\n",
              "      <td>60000</td>\n",
              "    </tr>\n",
              "    <tr>\n",
              "      <th>85</th>\n",
              "      <td>1985</td>\n",
              "      <td>CAL</td>\n",
              "      <td>AL</td>\n",
              "      <td>mccaski01</td>\n",
              "      <td>60000</td>\n",
              "    </tr>\n",
              "    <tr>\n",
              "      <th>105</th>\n",
              "      <td>1985</td>\n",
              "      <td>CHA</td>\n",
              "      <td>AL</td>\n",
              "      <td>guilloz01</td>\n",
              "      <td>60000</td>\n",
              "    </tr>\n",
              "    <tr>\n",
              "      <th>185</th>\n",
              "      <td>1985</td>\n",
              "      <td>DET</td>\n",
              "      <td>AL</td>\n",
              "      <td>castima02</td>\n",
              "      <td>76000</td>\n",
              "    </tr>\n",
              "    <tr>\n",
              "      <th>...</th>\n",
              "      <td>...</td>\n",
              "      <td>...</td>\n",
              "      <td>...</td>\n",
              "      <td>...</td>\n",
              "      <td>...</td>\n",
              "    </tr>\n",
              "    <tr>\n",
              "      <th>26380</th>\n",
              "      <td>2016</td>\n",
              "      <td>TOR</td>\n",
              "      <td>AL</td>\n",
              "      <td>dickera01</td>\n",
              "      <td>12000000</td>\n",
              "    </tr>\n",
              "    <tr>\n",
              "      <th>26381</th>\n",
              "      <td>2016</td>\n",
              "      <td>TOR</td>\n",
              "      <td>AL</td>\n",
              "      <td>donaljo02</td>\n",
              "      <td>11650000</td>\n",
              "    </tr>\n",
              "    <tr>\n",
              "      <th>26383</th>\n",
              "      <td>2016</td>\n",
              "      <td>TOR</td>\n",
              "      <td>AL</td>\n",
              "      <td>estrama01</td>\n",
              "      <td>11500000</td>\n",
              "    </tr>\n",
              "    <tr>\n",
              "      <th>26389</th>\n",
              "      <td>2016</td>\n",
              "      <td>TOR</td>\n",
              "      <td>AL</td>\n",
              "      <td>martiru01</td>\n",
              "      <td>15000000</td>\n",
              "    </tr>\n",
              "    <tr>\n",
              "      <th>26401</th>\n",
              "      <td>2016</td>\n",
              "      <td>TOR</td>\n",
              "      <td>AL</td>\n",
              "      <td>tulowtr01</td>\n",
              "      <td>20000000</td>\n",
              "    </tr>\n",
              "  </tbody>\n",
              "</table>\n",
              "<p>983 rows × 5 columns</p>\n",
              "</div>"
            ],
            "text/plain": [
              "       yearID teamID lgID   playerID    salary\n",
              "40       1985    BAL   AL  sheetla01     60000\n",
              "74       1985    CAL   AL  clibust02     60000\n",
              "85       1985    CAL   AL  mccaski01     60000\n",
              "105      1985    CHA   AL  guilloz01     60000\n",
              "185      1985    DET   AL  castima02     76000\n",
              "...       ...    ...  ...        ...       ...\n",
              "26380    2016    TOR   AL  dickera01  12000000\n",
              "26381    2016    TOR   AL  donaljo02  11650000\n",
              "26383    2016    TOR   AL  estrama01  11500000\n",
              "26389    2016    TOR   AL  martiru01  15000000\n",
              "26401    2016    TOR   AL  tulowtr01  20000000\n",
              "\n",
              "[983 rows x 5 columns]"
            ]
          },
          "execution_count": 50,
          "metadata": {},
          "output_type": "execute_result"
        }
      ],
      "source": [
        "# find all players in the American League, regardless of team, that made less\n",
        "# than $100,000 or more than $10,000,000\n",
        "\n",
        "salaries_df.loc[(salaries_df.lgID == 'AL') & ((salaries_df.salary < 100000) | (salaries_df.salary > 10000000))]"
      ]
    },
    {
      "cell_type": "markdown",
      "metadata": {
        "id": "YqymsWZJygWW"
      },
      "source": [
        "## Built-in selector `.isin()`\n",
        "\n",
        "Pandas comes with a few built-in conditional selectors, two of which we will highlight here.\n",
        "\n",
        "The first is `isin`. `isin` is lets you select data whose value \"is in\" a list of values.\n",
        "\n",
        "```\n",
        "      df.loc[df.col_name.isin([sequence of selectors])\n",
        "```\n",
        "\n"
      ]
    },
    {
      "cell_type": "code",
      "execution_count": 51,
      "metadata": {
        "id": "6DOPYGQ8zDSX"
      },
      "outputs": [
        {
          "data": {
            "text/html": [
              "<div>\n",
              "<style scoped>\n",
              "    .dataframe tbody tr th:only-of-type {\n",
              "        vertical-align: middle;\n",
              "    }\n",
              "\n",
              "    .dataframe tbody tr th {\n",
              "        vertical-align: top;\n",
              "    }\n",
              "\n",
              "    .dataframe thead th {\n",
              "        text-align: right;\n",
              "    }\n",
              "</style>\n",
              "<table border=\"1\" class=\"dataframe\">\n",
              "  <thead>\n",
              "    <tr style=\"text-align: right;\">\n",
              "      <th></th>\n",
              "      <th>yearID</th>\n",
              "      <th>teamID</th>\n",
              "      <th>lgID</th>\n",
              "      <th>playerID</th>\n",
              "      <th>salary</th>\n",
              "    </tr>\n",
              "  </thead>\n",
              "  <tbody>\n",
              "    <tr>\n",
              "      <th>118</th>\n",
              "      <td>1985</td>\n",
              "      <td>CHN</td>\n",
              "      <td>NL</td>\n",
              "      <td>bosleth01</td>\n",
              "      <td>215000</td>\n",
              "    </tr>\n",
              "    <tr>\n",
              "      <th>119</th>\n",
              "      <td>1985</td>\n",
              "      <td>CHN</td>\n",
              "      <td>NL</td>\n",
              "      <td>brusswa01</td>\n",
              "      <td>375000</td>\n",
              "    </tr>\n",
              "    <tr>\n",
              "      <th>120</th>\n",
              "      <td>1985</td>\n",
              "      <td>CHN</td>\n",
              "      <td>NL</td>\n",
              "      <td>ceyro01</td>\n",
              "      <td>1450000</td>\n",
              "    </tr>\n",
              "    <tr>\n",
              "      <th>121</th>\n",
              "      <td>1985</td>\n",
              "      <td>CHN</td>\n",
              "      <td>NL</td>\n",
              "      <td>davisjo02</td>\n",
              "      <td>550000</td>\n",
              "    </tr>\n",
              "    <tr>\n",
              "      <th>122</th>\n",
              "      <td>1985</td>\n",
              "      <td>CHN</td>\n",
              "      <td>NL</td>\n",
              "      <td>dernibo01</td>\n",
              "      <td>406250</td>\n",
              "    </tr>\n",
              "    <tr>\n",
              "      <th>...</th>\n",
              "      <td>...</td>\n",
              "      <td>...</td>\n",
              "      <td>...</td>\n",
              "      <td>...</td>\n",
              "      <td>...</td>\n",
              "    </tr>\n",
              "    <tr>\n",
              "      <th>26311</th>\n",
              "      <td>2016</td>\n",
              "      <td>SLN</td>\n",
              "      <td>NL</td>\n",
              "      <td>tejadru01</td>\n",
              "      <td>1500000</td>\n",
              "    </tr>\n",
              "    <tr>\n",
              "      <th>26312</th>\n",
              "      <td>2016</td>\n",
              "      <td>SLN</td>\n",
              "      <td>NL</td>\n",
              "      <td>wachami01</td>\n",
              "      <td>539000</td>\n",
              "    </tr>\n",
              "    <tr>\n",
              "      <th>26313</th>\n",
              "      <td>2016</td>\n",
              "      <td>SLN</td>\n",
              "      <td>NL</td>\n",
              "      <td>wainwad01</td>\n",
              "      <td>19500000</td>\n",
              "    </tr>\n",
              "    <tr>\n",
              "      <th>26314</th>\n",
              "      <td>2016</td>\n",
              "      <td>SLN</td>\n",
              "      <td>NL</td>\n",
              "      <td>waldejo01</td>\n",
              "      <td>3675000</td>\n",
              "    </tr>\n",
              "    <tr>\n",
              "      <th>26315</th>\n",
              "      <td>2016</td>\n",
              "      <td>SLN</td>\n",
              "      <td>NL</td>\n",
              "      <td>wongko01</td>\n",
              "      <td>1250000</td>\n",
              "    </tr>\n",
              "  </tbody>\n",
              "</table>\n",
              "<p>4252 rows × 5 columns</p>\n",
              "</div>"
            ],
            "text/plain": [
              "       yearID teamID lgID   playerID    salary\n",
              "118      1985    CHN   NL  bosleth01    215000\n",
              "119      1985    CHN   NL  brusswa01    375000\n",
              "120      1985    CHN   NL    ceyro01   1450000\n",
              "121      1985    CHN   NL  davisjo02    550000\n",
              "122      1985    CHN   NL  dernibo01    406250\n",
              "...       ...    ...  ...        ...       ...\n",
              "26311    2016    SLN   NL  tejadru01   1500000\n",
              "26312    2016    SLN   NL  wachami01    539000\n",
              "26313    2016    SLN   NL  wainwad01  19500000\n",
              "26314    2016    SLN   NL  waldejo01   3675000\n",
              "26315    2016    SLN   NL   wongko01   1250000\n",
              "\n",
              "[4252 rows x 5 columns]"
            ]
          },
          "execution_count": 51,
          "metadata": {},
          "output_type": "execute_result"
        }
      ],
      "source": [
        "# Get the salary data for the teams from the National League Central division\n",
        "# CHN, CIN, SLN, MIL, PIT\n",
        "\n",
        "salaries_df.loc[salaries_df.teamID.isin(['CHN', 'CIN', 'SLN', 'MIL', 'PIT'])]"
      ]
    },
    {
      "cell_type": "markdown",
      "metadata": {
        "id": "WFHYWiqW1nY8"
      },
      "source": [
        "## Built-in selector `.isnull`\n",
        "\n",
        "The second is `isnull` (and its companion `notnull`). These methods let you highlight values which are (or are not) empty (`NaN`)."
      ]
    },
    {
      "cell_type": "code",
      "execution_count": 58,
      "metadata": {
        "id": "VoEfTYch10su"
      },
      "outputs": [
        {
          "data": {
            "text/html": [
              "<div>\n",
              "<style scoped>\n",
              "    .dataframe tbody tr th:only-of-type {\n",
              "        vertical-align: middle;\n",
              "    }\n",
              "\n",
              "    .dataframe tbody tr th {\n",
              "        vertical-align: top;\n",
              "    }\n",
              "\n",
              "    .dataframe thead th {\n",
              "        text-align: right;\n",
              "    }\n",
              "</style>\n",
              "<table border=\"1\" class=\"dataframe\">\n",
              "  <thead>\n",
              "    <tr style=\"text-align: right;\">\n",
              "      <th></th>\n",
              "      <th>yearID</th>\n",
              "      <th>teamID</th>\n",
              "      <th>lgID</th>\n",
              "      <th>playerID</th>\n",
              "      <th>salary</th>\n",
              "    </tr>\n",
              "  </thead>\n",
              "  <tbody>\n",
              "    <tr>\n",
              "      <th>0</th>\n",
              "      <td>1985</td>\n",
              "      <td>ATL</td>\n",
              "      <td>NL</td>\n",
              "      <td>barkele01</td>\n",
              "      <td>NaN</td>\n",
              "    </tr>\n",
              "    <tr>\n",
              "      <th>1</th>\n",
              "      <td>1985</td>\n",
              "      <td>ATL</td>\n",
              "      <td>NL</td>\n",
              "      <td>bedrost01</td>\n",
              "      <td>NaN</td>\n",
              "    </tr>\n",
              "    <tr>\n",
              "      <th>2</th>\n",
              "      <td>1985</td>\n",
              "      <td>ATL</td>\n",
              "      <td>NL</td>\n",
              "      <td>benedbr01</td>\n",
              "      <td>NaN</td>\n",
              "    </tr>\n",
              "    <tr>\n",
              "      <th>3</th>\n",
              "      <td>1985</td>\n",
              "      <td>ATL</td>\n",
              "      <td>NL</td>\n",
              "      <td>campri01</td>\n",
              "      <td>NaN</td>\n",
              "    </tr>\n",
              "    <tr>\n",
              "      <th>4</th>\n",
              "      <td>1985</td>\n",
              "      <td>ATL</td>\n",
              "      <td>NL</td>\n",
              "      <td>ceronri01</td>\n",
              "      <td>NaN</td>\n",
              "    </tr>\n",
              "  </tbody>\n",
              "</table>\n",
              "</div>"
            ],
            "text/plain": [
              "   yearID teamID lgID   playerID  salary\n",
              "0    1985    ATL   NL  barkele01     NaN\n",
              "1    1985    ATL   NL  bedrost01     NaN\n",
              "2    1985    ATL   NL  benedbr01     NaN\n",
              "3    1985    ATL   NL   campri01     NaN\n",
              "4    1985    ATL   NL  ceronri01     NaN"
            ]
          },
          "execution_count": 58,
          "metadata": {},
          "output_type": "execute_result"
        }
      ],
      "source": [
        "# Find all rows, in the salary column that have null values\n",
        "salaries_df.loc[0:4, 'salary'] = np.nan\n",
        "salaries_df.loc[salaries_df.salary.isnull()]"
      ]
    },
    {
      "cell_type": "markdown",
      "metadata": {
        "id": "G0UBE09x2PQK"
      },
      "source": [
        "# Assigning Data\n",
        "\n",
        "Going the other way, assigning data to a DataFrame is easy. Using `loc` you can assign either a constant value"
      ]
    },
    {
      "cell_type": "code",
      "execution_count": 57,
      "metadata": {
        "id": "3N0_ItzS2bT8"
      },
      "outputs": [
        {
          "data": {
            "text/html": [
              "<div>\n",
              "<style scoped>\n",
              "    .dataframe tbody tr th:only-of-type {\n",
              "        vertical-align: middle;\n",
              "    }\n",
              "\n",
              "    .dataframe tbody tr th {\n",
              "        vertical-align: top;\n",
              "    }\n",
              "\n",
              "    .dataframe thead th {\n",
              "        text-align: right;\n",
              "    }\n",
              "</style>\n",
              "<table border=\"1\" class=\"dataframe\">\n",
              "  <thead>\n",
              "    <tr style=\"text-align: right;\">\n",
              "      <th></th>\n",
              "      <th>yearID</th>\n",
              "      <th>teamID</th>\n",
              "      <th>lgID</th>\n",
              "      <th>playerID</th>\n",
              "      <th>salary</th>\n",
              "    </tr>\n",
              "  </thead>\n",
              "  <tbody>\n",
              "    <tr>\n",
              "      <th>0</th>\n",
              "      <td>1985</td>\n",
              "      <td>ATL</td>\n",
              "      <td>NL</td>\n",
              "      <td>barkele01</td>\n",
              "      <td>NaN</td>\n",
              "    </tr>\n",
              "    <tr>\n",
              "      <th>1</th>\n",
              "      <td>1985</td>\n",
              "      <td>ATL</td>\n",
              "      <td>NL</td>\n",
              "      <td>bedrost01</td>\n",
              "      <td>NaN</td>\n",
              "    </tr>\n",
              "    <tr>\n",
              "      <th>2</th>\n",
              "      <td>1985</td>\n",
              "      <td>ATL</td>\n",
              "      <td>NL</td>\n",
              "      <td>benedbr01</td>\n",
              "      <td>NaN</td>\n",
              "    </tr>\n",
              "    <tr>\n",
              "      <th>3</th>\n",
              "      <td>1985</td>\n",
              "      <td>ATL</td>\n",
              "      <td>NL</td>\n",
              "      <td>campri01</td>\n",
              "      <td>NaN</td>\n",
              "    </tr>\n",
              "    <tr>\n",
              "      <th>4</th>\n",
              "      <td>1985</td>\n",
              "      <td>ATL</td>\n",
              "      <td>NL</td>\n",
              "      <td>ceronri01</td>\n",
              "      <td>NaN</td>\n",
              "    </tr>\n",
              "    <tr>\n",
              "      <th>...</th>\n",
              "      <td>...</td>\n",
              "      <td>...</td>\n",
              "      <td>...</td>\n",
              "      <td>...</td>\n",
              "      <td>...</td>\n",
              "    </tr>\n",
              "    <tr>\n",
              "      <th>26423</th>\n",
              "      <td>2016</td>\n",
              "      <td>WAS</td>\n",
              "      <td>NL</td>\n",
              "      <td>strasst01</td>\n",
              "      <td>10400000.0</td>\n",
              "    </tr>\n",
              "    <tr>\n",
              "      <th>26424</th>\n",
              "      <td>2016</td>\n",
              "      <td>WAS</td>\n",
              "      <td>NL</td>\n",
              "      <td>taylomi02</td>\n",
              "      <td>524000.0</td>\n",
              "    </tr>\n",
              "    <tr>\n",
              "      <th>26425</th>\n",
              "      <td>2016</td>\n",
              "      <td>WAS</td>\n",
              "      <td>NL</td>\n",
              "      <td>treinbl01</td>\n",
              "      <td>524900.0</td>\n",
              "    </tr>\n",
              "    <tr>\n",
              "      <th>26426</th>\n",
              "      <td>2016</td>\n",
              "      <td>WAS</td>\n",
              "      <td>NL</td>\n",
              "      <td>werthja01</td>\n",
              "      <td>21733615.0</td>\n",
              "    </tr>\n",
              "    <tr>\n",
              "      <th>26427</th>\n",
              "      <td>2016</td>\n",
              "      <td>WAS</td>\n",
              "      <td>NL</td>\n",
              "      <td>zimmery01</td>\n",
              "      <td>14000000.0</td>\n",
              "    </tr>\n",
              "  </tbody>\n",
              "</table>\n",
              "<p>26428 rows × 5 columns</p>\n",
              "</div>"
            ],
            "text/plain": [
              "       yearID teamID lgID   playerID      salary\n",
              "0        1985    ATL   NL  barkele01         NaN\n",
              "1        1985    ATL   NL  bedrost01         NaN\n",
              "2        1985    ATL   NL  benedbr01         NaN\n",
              "3        1985    ATL   NL   campri01         NaN\n",
              "4        1985    ATL   NL  ceronri01         NaN\n",
              "...       ...    ...  ...        ...         ...\n",
              "26423    2016    WAS   NL  strasst01  10400000.0\n",
              "26424    2016    WAS   NL  taylomi02    524000.0\n",
              "26425    2016    WAS   NL  treinbl01    524900.0\n",
              "26426    2016    WAS   NL  werthja01  21733615.0\n",
              "26427    2016    WAS   NL  zimmery01  14000000.0\n",
              "\n",
              "[26428 rows x 5 columns]"
            ]
          },
          "execution_count": 57,
          "metadata": {},
          "output_type": "execute_result"
        }
      ],
      "source": [
        "# Assign a new salary to the first player, 'barkele01', in the dataframe\n",
        "\n",
        "salaries_df.loc[0:4, 'salary'] = np.nan\n",
        "salaries_df"
      ]
    },
    {
      "cell_type": "markdown",
      "metadata": {
        "id": "dXM6trM84DnK"
      },
      "source": [
        "Or with an iterable of values:"
      ]
    },
    {
      "cell_type": "code",
      "execution_count": null,
      "metadata": {
        "id": "ZNKt-FYh4O0a"
      },
      "outputs": [],
      "source": [
        "# add a new column with values from 0 to length of df - 1\n",
        "\n"
      ]
    }
  ],
  "metadata": {
    "colab": {
      "provenance": []
    },
    "kernelspec": {
      "display_name": "Python 3",
      "name": "python3"
    },
    "language_info": {
      "codemirror_mode": {
        "name": "ipython",
        "version": 3
      },
      "file_extension": ".py",
      "mimetype": "text/x-python",
      "name": "python",
      "nbconvert_exporter": "python",
      "pygments_lexer": "ipython3",
      "version": "3.13.7"
    }
  },
  "nbformat": 4,
  "nbformat_minor": 0
}
