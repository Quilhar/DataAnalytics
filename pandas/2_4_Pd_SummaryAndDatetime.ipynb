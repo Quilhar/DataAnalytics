{
  "cells": [
    {
      "cell_type": "markdown",
      "metadata": {
        "id": "gx2Pu66yaqxO"
      },
      "source": [
        "# Import Libraries and Load P_WX2013.csv Data"
      ]
    },
    {
      "cell_type": "markdown",
      "metadata": {
        "id": "HrPK3_Zna1Ze"
      },
      "source": [
        "## Imports"
      ]
    },
    {
      "cell_type": "code",
      "execution_count": 51,
      "metadata": {
        "id": "0D-WuS6ta28D"
      },
      "outputs": [],
      "source": [
        "# add imports\n",
        "\n",
        "import pandas as pd\n",
        "import numpy as np"
      ]
    },
    {
      "cell_type": "markdown",
      "metadata": {
        "id": "p3aRf3Toa6G4"
      },
      "source": [
        "## Load Data"
      ]
    },
    {
      "cell_type": "code",
      "execution_count": 52,
      "metadata": {
        "id": "VF3CmvZ6az16"
      },
      "outputs": [
        {
          "data": {
            "text/html": [
              "<div>\n",
              "<style scoped>\n",
              "    .dataframe tbody tr th:only-of-type {\n",
              "        vertical-align: middle;\n",
              "    }\n",
              "\n",
              "    .dataframe tbody tr th {\n",
              "        vertical-align: top;\n",
              "    }\n",
              "\n",
              "    .dataframe thead th {\n",
              "        text-align: right;\n",
              "    }\n",
              "</style>\n",
              "<table border=\"1\" class=\"dataframe\">\n",
              "  <thead>\n",
              "    <tr style=\"text-align: right;\">\n",
              "      <th></th>\n",
              "      <th>STATION</th>\n",
              "      <th>DATE</th>\n",
              "      <th>PRCP</th>\n",
              "      <th>SNWD</th>\n",
              "      <th>SNOW</th>\n",
              "      <th>TMAX</th>\n",
              "      <th>TMIN</th>\n",
              "    </tr>\n",
              "  </thead>\n",
              "  <tbody>\n",
              "    <tr>\n",
              "      <th>0</th>\n",
              "      <td>GHCND:USW00014764</td>\n",
              "      <td>20130101</td>\n",
              "      <td>0</td>\n",
              "      <td>254</td>\n",
              "      <td>0</td>\n",
              "      <td>0</td>\n",
              "      <td>-117</td>\n",
              "    </tr>\n",
              "    <tr>\n",
              "      <th>1</th>\n",
              "      <td>GHCND:USW00014764</td>\n",
              "      <td>20130102</td>\n",
              "      <td>0</td>\n",
              "      <td>254</td>\n",
              "      <td>0</td>\n",
              "      <td>-44</td>\n",
              "      <td>-161</td>\n",
              "    </tr>\n",
              "    <tr>\n",
              "      <th>2</th>\n",
              "      <td>GHCND:USW00014764</td>\n",
              "      <td>20130103</td>\n",
              "      <td>0</td>\n",
              "      <td>229</td>\n",
              "      <td>0</td>\n",
              "      <td>-50</td>\n",
              "      <td>-178</td>\n",
              "    </tr>\n",
              "  </tbody>\n",
              "</table>\n",
              "</div>"
            ],
            "text/plain": [
              "             STATION      DATE PRCP SNWD SNOW TMAX  TMIN\n",
              "0  GHCND:USW00014764  20130101    0  254    0    0  -117\n",
              "1  GHCND:USW00014764  20130102    0  254    0  -44  -161\n",
              "2  GHCND:USW00014764  20130103    0  229    0  -50  -178"
            ]
          },
          "execution_count": 52,
          "metadata": {},
          "output_type": "execute_result"
        }
      ],
      "source": [
        "# load data from P_WX2013.csv and display the first 3 rows\n",
        "\n",
        "df = pd.read_csv('P_WX2013.csv', dtype={'DATE':object, 'PRCP':object,\n",
        "'SNWD':object, 'SNOW':object,\n",
        "'TMAX':object, 'TMIN':object,})\n",
        "\n",
        "df[:3]\n"
      ]
    },
    {
      "cell_type": "markdown",
      "metadata": {
        "id": "OqTZaNtIYnZg"
      },
      "source": [
        "# Summarized Data"
      ]
    },
    {
      "cell_type": "code",
      "execution_count": 53,
      "metadata": {
        "id": "kx47BsLBaXfy"
      },
      "outputs": [
        {
          "name": "stdout",
          "output_type": "stream",
          "text": [
            "<class 'pandas.core.frame.DataFrame'>\n",
            "RangeIndex: 365 entries, 0 to 364\n",
            "Data columns (total 7 columns):\n",
            " #   Column   Non-Null Count  Dtype \n",
            "---  ------   --------------  ----- \n",
            " 0   STATION  365 non-null    object\n",
            " 1   DATE     364 non-null    object\n",
            " 2   PRCP     364 non-null    object\n",
            " 3   SNWD     365 non-null    object\n",
            " 4   SNOW     365 non-null    object\n",
            " 5   TMAX     364 non-null    object\n",
            " 6   TMIN     364 non-null    object\n",
            "dtypes: object(7)\n",
            "memory usage: 20.1+ KB\n"
          ]
        }
      ],
      "source": [
        "# use .info() to get a sense of the data\n",
        "# create a text cell below to summarize your findings\n",
        "\n",
        "df.info()"
      ]
    },
    {
      "cell_type": "markdown",
      "metadata": {},
      "source": [
        "There are 7 different columns and of all their data types are objects. There are 365 entries, so 365 rows. Station, SNWD, and SNOW have non-null information for all entries. However, the rest of columns have 1 null object out of 365."
      ]
    },
    {
      "cell_type": "markdown",
      "metadata": {
        "id": "0hmO9zzHmLPO"
      },
      "source": [
        "## Summary of Basic Descriptive Statistics\n",
        "```\n",
        "df.describe()\n",
        "```\n",
        "\n",
        "Returns a Dataframe with 6 basic descriptive statistics as indices and the values of these statistics for each column that has numerical data."
      ]
    },
    {
      "cell_type": "code",
      "execution_count": 54,
      "metadata": {
        "id": "lVpKazsRmcBo"
      },
      "outputs": [
        {
          "data": {
            "text/html": [
              "<div>\n",
              "<style scoped>\n",
              "    .dataframe tbody tr th:only-of-type {\n",
              "        vertical-align: middle;\n",
              "    }\n",
              "\n",
              "    .dataframe tbody tr th {\n",
              "        vertical-align: top;\n",
              "    }\n",
              "\n",
              "    .dataframe thead th {\n",
              "        text-align: right;\n",
              "    }\n",
              "</style>\n",
              "<table border=\"1\" class=\"dataframe\">\n",
              "  <thead>\n",
              "    <tr style=\"text-align: right;\">\n",
              "      <th></th>\n",
              "      <th>STATION</th>\n",
              "      <th>DATE</th>\n",
              "      <th>PRCP</th>\n",
              "      <th>SNWD</th>\n",
              "      <th>SNOW</th>\n",
              "      <th>TMAX</th>\n",
              "      <th>TMIN</th>\n",
              "    </tr>\n",
              "  </thead>\n",
              "  <tbody>\n",
              "    <tr>\n",
              "      <th>count</th>\n",
              "      <td>365</td>\n",
              "      <td>364</td>\n",
              "      <td>364</td>\n",
              "      <td>365</td>\n",
              "      <td>365</td>\n",
              "      <td>364</td>\n",
              "      <td>364</td>\n",
              "    </tr>\n",
              "    <tr>\n",
              "      <th>unique</th>\n",
              "      <td>1</td>\n",
              "      <td>363</td>\n",
              "      <td>63</td>\n",
              "      <td>25</td>\n",
              "      <td>20</td>\n",
              "      <td>87</td>\n",
              "      <td>92</td>\n",
              "    </tr>\n",
              "    <tr>\n",
              "      <th>top</th>\n",
              "      <td>GHCND:USW00014764</td>\n",
              "      <td>20130321</td>\n",
              "      <td>0</td>\n",
              "      <td>0</td>\n",
              "      <td>0</td>\n",
              "      <td>189</td>\n",
              "      <td>0</td>\n",
              "    </tr>\n",
              "    <tr>\n",
              "      <th>freq</th>\n",
              "      <td>365</td>\n",
              "      <td>2</td>\n",
              "      <td>234</td>\n",
              "      <td>268</td>\n",
              "      <td>336</td>\n",
              "      <td>12</td>\n",
              "      <td>16</td>\n",
              "    </tr>\n",
              "  </tbody>\n",
              "</table>\n",
              "</div>"
            ],
            "text/plain": [
              "                  STATION      DATE PRCP SNWD SNOW TMAX TMIN\n",
              "count                 365       364  364  365  365  364  364\n",
              "unique                  1       363   63   25   20   87   92\n",
              "top     GHCND:USW00014764  20130321    0    0    0  189    0\n",
              "freq                  365         2  234  268  336   12   16"
            ]
          },
          "execution_count": 54,
          "metadata": {},
          "output_type": "execute_result"
        }
      ],
      "source": [
        "# display the descriptive statistics for the df\n",
        "# create a text cell below to summarize your findings\n",
        "\n",
        "df.describe()"
      ]
    },
    {
      "cell_type": "markdown",
      "metadata": {},
      "source": [
        "Station only has one entry that occurs for all 365 entries, which is \"GHCND:USW00014764.\" The majority of the DATE column's entries are unique, except for one date the repeats itself, \"20130321.\" PRCP has quite a few unique entries, but 0 is the most fruequent, occuring 234 times. SNWD most fruequent entry is also 0 appearing 268 times, but has a relativley low number of unique entries. SNOW like the previous two columns most fruequent data entry is 0 appearing a staggering 336 times with only 19 other unique entries besides 0. TMAX has 87 unique entries with the most common one being 289, appearing 12 times. TMIN has a similar number of unqiue entries. It's top entry like most of the columns is 0, appearing 16 times. DATE, PRCP, TMAX, and TMIN all have 364 entries compared to 365."
      ]
    },
    {
      "cell_type": "markdown",
      "metadata": {
        "id": "ere8_YTTjc0S"
      },
      "source": [
        "## Unique Values\n",
        "```\n",
        "df['col_nam'].unique()\n",
        "```\n",
        "\n",
        "Returns a Numpy array containing the unique values in the specified column.\n",
        "\n"
      ]
    },
    {
      "cell_type": "code",
      "execution_count": 55,
      "metadata": {
        "id": "0MnR-edmjzOk"
      },
      "outputs": [
        {
          "data": {
            "text/plain": [
              "array(['0', '3', '130', '48', '5', '389', '422', '51', '272', '74', '38',\n",
              "       '13', '221', '23', '18', '46', '269', '229', '33', '-9999'],\n",
              "      dtype=object)"
            ]
          },
          "execution_count": 55,
          "metadata": {},
          "output_type": "execute_result"
        }
      ],
      "source": [
        "# look at the unique values are there in a column you choose\n",
        "# create a text cell below to summarize your findings\n",
        "df['SNOW'].unique()\n"
      ]
    },
    {
      "cell_type": "markdown",
      "metadata": {},
      "source": [
        "SNOW has 20 unique entries and their datatype is an object. It also has an odd -9999 entry. "
      ]
    },
    {
      "cell_type": "markdown",
      "metadata": {
        "id": "atIS6wn8lub8"
      },
      "source": [
        "```\n",
        "df['col_name'].nunique()\n",
        "```\n",
        "Returns the number of unique values in the column.\n",
        "\n",
        "```\n",
        "df.nunique()\n",
        "```\n",
        "Returns the number of unique values in each column of the dataframe.\n"
      ]
    },
    {
      "cell_type": "code",
      "execution_count": 56,
      "metadata": {
        "id": "nAiErEfsbmqv"
      },
      "outputs": [
        {
          "data": {
            "text/plain": [
              "STATION      1\n",
              "DATE       363\n",
              "PRCP        63\n",
              "SNWD        25\n",
              "SNOW        20\n",
              "TMAX        87\n",
              "TMIN        92\n",
              "dtype: int64"
            ]
          },
          "execution_count": 56,
          "metadata": {},
          "output_type": "execute_result"
        }
      ],
      "source": [
        "# how many unique values are there in that column\n",
        "\n",
        "df['SNOW'].nunique()\n",
        "\n",
        "\n",
        "# how many unique values are there in the whole dataframe\n",
        "\n",
        "df.nunique()"
      ]
    },
    {
      "cell_type": "markdown",
      "metadata": {
        "id": "VO1Lpg7jZw9e"
      },
      "source": [
        "## Value Counts\n",
        "\n",
        "`df[col_name].value_counts()`\n",
        "\n",
        "Returns a Series with the unique values as indices and the value counts as the values."
      ]
    },
    {
      "cell_type": "code",
      "execution_count": 57,
      "metadata": {
        "id": "UuOEBAZQalQn"
      },
      "outputs": [
        {
          "data": {
            "text/plain": [
              "STATION            DATE      PRCP  SNWD   SNOW   TMAX  TMIN\n",
              "GHCND:USW00014764  20130321  0     178    0      33    -61     2\n",
              "                   20130830  0     0      0      267   161     1\n",
              "                   20130909  0     0      0      206   44      1\n",
              "                   20130908  3     0      0      206   72      1\n",
              "                   20130907  0     0      0      261   89      1\n",
              "                                                              ..\n",
              "                   20130501  0     0      0      172   0       1\n",
              "                   20130430  0     0      0      178   22      1\n",
              "                   20130429  0     0      0      156   28      1\n",
              "                   20130428  0     0      0      161   11      1\n",
              "                   20131231  3     -9999  -9999  -105  -171    1\n",
              "Name: count, Length: 360, dtype: int64"
            ]
          },
          "execution_count": 57,
          "metadata": {},
          "output_type": "execute_result"
        }
      ],
      "source": [
        "# run this function on the TMAX column; create a text cell below and describe\n",
        "# how many unique temps are in that column and describe what the meaning of the\n",
        "# first entry in the series\n",
        "\n",
        "# df['TMAX'].value_counts()\n",
        "\n",
        "# run this function on the entire dataframe and summarize what information you\n",
        "# can glean from the output\n",
        "\n",
        "df.value_counts()\n"
      ]
    },
    {
      "cell_type": "markdown",
      "metadata": {},
      "source": [
        "1. There are 87 unique temps in the column TMAX, and you can tell because of the length of value_counts(). The first entry tells us the most common temperature is 189 and it happens 12 days of the year. \n",
        "\n",
        "2. In Decemeber, SNWD and SNOW have a entry that is absurdly high and probably wrong of -9999. Running the function on the whole data set also tells us that one of the days has information that repeats. Every day should be unqiue and thats why all of the counts are 1, exepct for the first value in the series which is 2. This means that when using the data set we probably have to worry about that and deal with it somehow. "
      ]
    },
    {
      "cell_type": "markdown",
      "metadata": {
        "id": "56a6qLPW1nxu"
      },
      "source": [
        "# DateTime Library\n",
        "\n"
      ]
    },
    {
      "cell_type": "markdown",
      "metadata": {
        "id": "O3j01FofEuNq"
      },
      "source": [
        "## Converting Dates to Datetime Objects\n",
        "\n",
        "[pd.to_datetime](https://pandas.pydata.org/docs/reference/api/pandas.to_datetime.html)\n",
        "\n",
        "```\n",
        "df[col_name] = pd.to_datetime(df[col_name])\n",
        "```\n",
        "\n",
        "This function is used to convert various data types (strings, integers, floats, lists of date components) into datetime objects. It can parse a wide range of formats and offers options for handling errors or specifying formats."
      ]
    },
    {
      "cell_type": "code",
      "execution_count": 58,
      "metadata": {
        "id": "67EM5BhDC7jK"
      },
      "outputs": [
        {
          "name": "stdout",
          "output_type": "stream",
          "text": [
            "<class 'pandas.core.frame.DataFrame'>\n",
            "RangeIndex: 365 entries, 0 to 364\n",
            "Data columns (total 7 columns):\n",
            " #   Column   Non-Null Count  Dtype         \n",
            "---  ------   --------------  -----         \n",
            " 0   STATION  365 non-null    object        \n",
            " 1   DATE     364 non-null    datetime64[ns]\n",
            " 2   PRCP     364 non-null    object        \n",
            " 3   SNWD     365 non-null    object        \n",
            " 4   SNOW     365 non-null    object        \n",
            " 5   TMAX     364 non-null    object        \n",
            " 6   TMIN     364 non-null    object        \n",
            "dtypes: datetime64[ns](1), object(6)\n",
            "memory usage: 20.1+ KB\n"
          ]
        }
      ],
      "source": [
        "# convert the DATE column to datetime objects and run .info()\n",
        "# on the dataframe to confirm that the change was made\n",
        "df['DATE'] = pd.to_datetime(df['DATE'])\n",
        "df.info()\n"
      ]
    },
    {
      "cell_type": "markdown",
      "metadata": {},
      "source": [
        "We know it worked because the data type for DATE is now datetime64[ns]"
      ]
    },
    {
      "cell_type": "markdown",
      "metadata": {
        "id": "lCdGNdjXDCVA"
      },
      "source": [
        "## Accessing Periods of Time\n",
        "\n",
        "To access the specific periods of a datetime object:\n",
        "\n",
        "`df[col_name].dt.year` returns the year of the date time.\n",
        "\n",
        "`df[col_name].dt.month` returns the month of the date time.\n",
        "\n",
        "`df[col_name].dt.day` returns the day of the date time.\n",
        "\n",
        "`df[col_name].dt.hour` returns the hour of the date time.\n",
        "\n",
        "`df[col_name].dt.minute` returns the minute of the date time."
      ]
    },
    {
      "cell_type": "code",
      "execution_count": 59,
      "metadata": {
        "id": "6OeMzSjXDqQZ"
      },
      "outputs": [],
      "source": [
        "# try accessing each part of the dates in the DATE column\n",
        "\n",
        "df_year = df['DATE'].dt.year\n",
        "df_month = df['DATE'].dt.month\n",
        "df_day = df['DATE'].dt.day\n",
        "df_hour = df['DATE'].dt.hour\n",
        "df_minute = df['DATE'].dt.minute\n"
      ]
    },
    {
      "cell_type": "code",
      "execution_count": 60,
      "metadata": {},
      "outputs": [
        {
          "data": {
            "text/plain": [
              "0      2013.0\n",
              "1      2013.0\n",
              "2      2013.0\n",
              "3      2013.0\n",
              "4      2013.0\n",
              "        ...  \n",
              "360    2013.0\n",
              "361    2013.0\n",
              "362    2013.0\n",
              "363    2013.0\n",
              "364    2013.0\n",
              "Name: DATE, Length: 365, dtype: float64"
            ]
          },
          "execution_count": 60,
          "metadata": {},
          "output_type": "execute_result"
        }
      ],
      "source": [
        "df_year"
      ]
    },
    {
      "cell_type": "code",
      "execution_count": 61,
      "metadata": {},
      "outputs": [
        {
          "data": {
            "text/plain": [
              "0       1.0\n",
              "1       1.0\n",
              "2       1.0\n",
              "3       1.0\n",
              "4       1.0\n",
              "       ... \n",
              "360    12.0\n",
              "361    12.0\n",
              "362    12.0\n",
              "363    12.0\n",
              "364    12.0\n",
              "Name: DATE, Length: 365, dtype: float64"
            ]
          },
          "execution_count": 61,
          "metadata": {},
          "output_type": "execute_result"
        }
      ],
      "source": [
        "df_month"
      ]
    },
    {
      "cell_type": "code",
      "execution_count": 62,
      "metadata": {},
      "outputs": [
        {
          "data": {
            "text/plain": [
              "0       1.0\n",
              "1       2.0\n",
              "2       3.0\n",
              "3       4.0\n",
              "4       5.0\n",
              "       ... \n",
              "360    27.0\n",
              "361    28.0\n",
              "362    29.0\n",
              "363    30.0\n",
              "364    31.0\n",
              "Name: DATE, Length: 365, dtype: float64"
            ]
          },
          "execution_count": 62,
          "metadata": {},
          "output_type": "execute_result"
        }
      ],
      "source": [
        "df_day"
      ]
    },
    {
      "cell_type": "code",
      "execution_count": 63,
      "metadata": {},
      "outputs": [
        {
          "data": {
            "text/plain": [
              "0      0.0\n",
              "1      0.0\n",
              "2      0.0\n",
              "3      0.0\n",
              "4      0.0\n",
              "      ... \n",
              "360    0.0\n",
              "361    0.0\n",
              "362    0.0\n",
              "363    0.0\n",
              "364    0.0\n",
              "Name: DATE, Length: 365, dtype: float64"
            ]
          },
          "execution_count": 63,
          "metadata": {},
          "output_type": "execute_result"
        }
      ],
      "source": [
        "df_hour"
      ]
    },
    {
      "cell_type": "code",
      "execution_count": 64,
      "metadata": {},
      "outputs": [
        {
          "data": {
            "text/plain": [
              "0      0.0\n",
              "1      0.0\n",
              "2      0.0\n",
              "3      0.0\n",
              "4      0.0\n",
              "      ... \n",
              "360    0.0\n",
              "361    0.0\n",
              "362    0.0\n",
              "363    0.0\n",
              "364    0.0\n",
              "Name: DATE, Length: 365, dtype: float64"
            ]
          },
          "execution_count": 64,
          "metadata": {},
          "output_type": "execute_result"
        }
      ],
      "source": [
        "df_minute"
      ]
    },
    {
      "cell_type": "code",
      "execution_count": 65,
      "metadata": {
        "id": "Ei8z0X-TENLV"
      },
      "outputs": [
        {
          "data": {
            "text/html": [
              "<div>\n",
              "<style scoped>\n",
              "    .dataframe tbody tr th:only-of-type {\n",
              "        vertical-align: middle;\n",
              "    }\n",
              "\n",
              "    .dataframe tbody tr th {\n",
              "        vertical-align: top;\n",
              "    }\n",
              "\n",
              "    .dataframe thead th {\n",
              "        text-align: right;\n",
              "    }\n",
              "</style>\n",
              "<table border=\"1\" class=\"dataframe\">\n",
              "  <thead>\n",
              "    <tr style=\"text-align: right;\">\n",
              "      <th></th>\n",
              "      <th>STATION</th>\n",
              "      <th>DATE</th>\n",
              "      <th>PRCP</th>\n",
              "      <th>SNWD</th>\n",
              "      <th>SNOW</th>\n",
              "      <th>TMAX</th>\n",
              "      <th>TMIN</th>\n",
              "    </tr>\n",
              "  </thead>\n",
              "  <tbody>\n",
              "    <tr>\n",
              "      <th>90</th>\n",
              "      <td>GHCND:USW00014764</td>\n",
              "      <td>2013-04-01</td>\n",
              "      <td>160</td>\n",
              "      <td>0</td>\n",
              "      <td>0</td>\n",
              "      <td>128</td>\n",
              "      <td>0</td>\n",
              "    </tr>\n",
              "    <tr>\n",
              "      <th>91</th>\n",
              "      <td>GHCND:USW00014764</td>\n",
              "      <td>2013-04-02</td>\n",
              "      <td>0</td>\n",
              "      <td>0</td>\n",
              "      <td>0</td>\n",
              "      <td>39</td>\n",
              "      <td>-21</td>\n",
              "    </tr>\n",
              "    <tr>\n",
              "      <th>92</th>\n",
              "      <td>GHCND:USW00014764</td>\n",
              "      <td>2013-04-03</td>\n",
              "      <td>0</td>\n",
              "      <td>0</td>\n",
              "      <td>0</td>\n",
              "      <td>72</td>\n",
              "      <td>-16</td>\n",
              "    </tr>\n",
              "    <tr>\n",
              "      <th>93</th>\n",
              "      <td>GHCND:USW00014764</td>\n",
              "      <td>2013-04-04</td>\n",
              "      <td>0</td>\n",
              "      <td>0</td>\n",
              "      <td>0</td>\n",
              "      <td>117</td>\n",
              "      <td>-32</td>\n",
              "    </tr>\n",
              "    <tr>\n",
              "      <th>94</th>\n",
              "      <td>GHCND:USW00014764</td>\n",
              "      <td>2013-04-05</td>\n",
              "      <td>0</td>\n",
              "      <td>0</td>\n",
              "      <td>0</td>\n",
              "      <td>122</td>\n",
              "      <td>17</td>\n",
              "    </tr>\n",
              "    <tr>\n",
              "      <th>95</th>\n",
              "      <td>GHCND:USW00014764</td>\n",
              "      <td>2013-04-06</td>\n",
              "      <td>0</td>\n",
              "      <td>0</td>\n",
              "      <td>0</td>\n",
              "      <td>56</td>\n",
              "      <td>-32</td>\n",
              "    </tr>\n",
              "    <tr>\n",
              "      <th>96</th>\n",
              "      <td>GHCND:USW00014764</td>\n",
              "      <td>2013-04-07</td>\n",
              "      <td>0</td>\n",
              "      <td>0</td>\n",
              "      <td>0</td>\n",
              "      <td>78</td>\n",
              "      <td>-38</td>\n",
              "    </tr>\n",
              "    <tr>\n",
              "      <th>97</th>\n",
              "      <td>GHCND:USW00014764</td>\n",
              "      <td>2013-04-08</td>\n",
              "      <td>0</td>\n",
              "      <td>0</td>\n",
              "      <td>0</td>\n",
              "      <td>161</td>\n",
              "      <td>17</td>\n",
              "    </tr>\n",
              "    <tr>\n",
              "      <th>98</th>\n",
              "      <td>GHCND:USW00014764</td>\n",
              "      <td>2013-04-09</td>\n",
              "      <td>46</td>\n",
              "      <td>0</td>\n",
              "      <td>0</td>\n",
              "      <td>111</td>\n",
              "      <td>56</td>\n",
              "    </tr>\n",
              "    <tr>\n",
              "      <th>99</th>\n",
              "      <td>GHCND:USW00014764</td>\n",
              "      <td>2013-04-10</td>\n",
              "      <td>119</td>\n",
              "      <td>0</td>\n",
              "      <td>0</td>\n",
              "      <td>128</td>\n",
              "      <td>56</td>\n",
              "    </tr>\n",
              "    <tr>\n",
              "      <th>100</th>\n",
              "      <td>GHCND:USW00014764</td>\n",
              "      <td>2013-04-11</td>\n",
              "      <td>13</td>\n",
              "      <td>0</td>\n",
              "      <td>0</td>\n",
              "      <td>117</td>\n",
              "      <td>44</td>\n",
              "    </tr>\n",
              "    <tr>\n",
              "      <th>101</th>\n",
              "      <td>GHCND:USW00014764</td>\n",
              "      <td>2013-04-12</td>\n",
              "      <td>97</td>\n",
              "      <td>0</td>\n",
              "      <td>5</td>\n",
              "      <td>44</td>\n",
              "      <td>11</td>\n",
              "    </tr>\n",
              "    <tr>\n",
              "      <th>102</th>\n",
              "      <td>GHCND:USW00014764</td>\n",
              "      <td>2013-04-13</td>\n",
              "      <td>18</td>\n",
              "      <td>0</td>\n",
              "      <td>0</td>\n",
              "      <td>89</td>\n",
              "      <td>6</td>\n",
              "    </tr>\n",
              "    <tr>\n",
              "      <th>103</th>\n",
              "      <td>GHCND:USW00014764</td>\n",
              "      <td>2013-04-14</td>\n",
              "      <td>18</td>\n",
              "      <td>0</td>\n",
              "      <td>0</td>\n",
              "      <td>100</td>\n",
              "      <td>39</td>\n",
              "    </tr>\n",
              "    <tr>\n",
              "      <th>104</th>\n",
              "      <td>GHCND:USW00014764</td>\n",
              "      <td>2013-04-15</td>\n",
              "      <td>0</td>\n",
              "      <td>0</td>\n",
              "      <td>0</td>\n",
              "      <td>106</td>\n",
              "      <td>-5</td>\n",
              "    </tr>\n",
              "    <tr>\n",
              "      <th>105</th>\n",
              "      <td>GHCND:USW00014764</td>\n",
              "      <td>2013-04-16</td>\n",
              "      <td>0</td>\n",
              "      <td>0</td>\n",
              "      <td>0</td>\n",
              "      <td>139</td>\n",
              "      <td>28</td>\n",
              "    </tr>\n",
              "    <tr>\n",
              "      <th>106</th>\n",
              "      <td>GHCND:USW00014764</td>\n",
              "      <td>2013-04-17</td>\n",
              "      <td>0</td>\n",
              "      <td>0</td>\n",
              "      <td>0</td>\n",
              "      <td>172</td>\n",
              "      <td>61</td>\n",
              "    </tr>\n",
              "    <tr>\n",
              "      <th>107</th>\n",
              "      <td>GHCND:USW00014764</td>\n",
              "      <td>2013-04-18</td>\n",
              "      <td>0</td>\n",
              "      <td>0</td>\n",
              "      <td>0</td>\n",
              "      <td>94</td>\n",
              "      <td>0</td>\n",
              "    </tr>\n",
              "    <tr>\n",
              "      <th>108</th>\n",
              "      <td>GHCND:USW00014764</td>\n",
              "      <td>2013-04-19</td>\n",
              "      <td>0</td>\n",
              "      <td>0</td>\n",
              "      <td>0</td>\n",
              "      <td>183</td>\n",
              "      <td>78</td>\n",
              "    </tr>\n",
              "    <tr>\n",
              "      <th>109</th>\n",
              "      <td>GHCND:USW00014764</td>\n",
              "      <td>2013-04-20</td>\n",
              "      <td>46</td>\n",
              "      <td>0</td>\n",
              "      <td>0</td>\n",
              "      <td>139</td>\n",
              "      <td>50</td>\n",
              "    </tr>\n",
              "    <tr>\n",
              "      <th>110</th>\n",
              "      <td>GHCND:USW00014764</td>\n",
              "      <td>2013-04-21</td>\n",
              "      <td>0</td>\n",
              "      <td>0</td>\n",
              "      <td>0</td>\n",
              "      <td>111</td>\n",
              "      <td>-5</td>\n",
              "    </tr>\n",
              "    <tr>\n",
              "      <th>111</th>\n",
              "      <td>GHCND:USW00014764</td>\n",
              "      <td>2013-04-22</td>\n",
              "      <td>0</td>\n",
              "      <td>0</td>\n",
              "      <td>0</td>\n",
              "      <td>83</td>\n",
              "      <td>-5</td>\n",
              "    </tr>\n",
              "    <tr>\n",
              "      <th>112</th>\n",
              "      <td>GHCND:USW00014764</td>\n",
              "      <td>2013-04-23</td>\n",
              "      <td>3</td>\n",
              "      <td>0</td>\n",
              "      <td>0</td>\n",
              "      <td>56</td>\n",
              "      <td>0</td>\n",
              "    </tr>\n",
              "    <tr>\n",
              "      <th>113</th>\n",
              "      <td>GHCND:USW00014764</td>\n",
              "      <td>2013-04-24</td>\n",
              "      <td>13</td>\n",
              "      <td>0</td>\n",
              "      <td>0</td>\n",
              "      <td>178</td>\n",
              "      <td>56</td>\n",
              "    </tr>\n",
              "    <tr>\n",
              "      <th>114</th>\n",
              "      <td>GHCND:USW00014764</td>\n",
              "      <td>2013-04-25</td>\n",
              "      <td>5</td>\n",
              "      <td>0</td>\n",
              "      <td>0</td>\n",
              "      <td>178</td>\n",
              "      <td>67</td>\n",
              "    </tr>\n",
              "    <tr>\n",
              "      <th>115</th>\n",
              "      <td>GHCND:USW00014764</td>\n",
              "      <td>2013-04-26</td>\n",
              "      <td>0</td>\n",
              "      <td>0</td>\n",
              "      <td>0</td>\n",
              "      <td>117</td>\n",
              "      <td>6</td>\n",
              "    </tr>\n",
              "    <tr>\n",
              "      <th>116</th>\n",
              "      <td>GHCND:USW00014764</td>\n",
              "      <td>2013-04-27</td>\n",
              "      <td>0</td>\n",
              "      <td>0</td>\n",
              "      <td>0</td>\n",
              "      <td>139</td>\n",
              "      <td>11</td>\n",
              "    </tr>\n",
              "    <tr>\n",
              "      <th>117</th>\n",
              "      <td>GHCND:USW00014764</td>\n",
              "      <td>2013-04-28</td>\n",
              "      <td>0</td>\n",
              "      <td>0</td>\n",
              "      <td>0</td>\n",
              "      <td>161</td>\n",
              "      <td>11</td>\n",
              "    </tr>\n",
              "    <tr>\n",
              "      <th>118</th>\n",
              "      <td>GHCND:USW00014764</td>\n",
              "      <td>2013-04-29</td>\n",
              "      <td>0</td>\n",
              "      <td>0</td>\n",
              "      <td>0</td>\n",
              "      <td>156</td>\n",
              "      <td>28</td>\n",
              "    </tr>\n",
              "    <tr>\n",
              "      <th>119</th>\n",
              "      <td>GHCND:USW00014764</td>\n",
              "      <td>2013-04-30</td>\n",
              "      <td>0</td>\n",
              "      <td>0</td>\n",
              "      <td>0</td>\n",
              "      <td>178</td>\n",
              "      <td>22</td>\n",
              "    </tr>\n",
              "  </tbody>\n",
              "</table>\n",
              "</div>"
            ],
            "text/plain": [
              "               STATION       DATE PRCP SNWD SNOW TMAX TMIN\n",
              "90   GHCND:USW00014764 2013-04-01  160    0    0  128    0\n",
              "91   GHCND:USW00014764 2013-04-02    0    0    0   39  -21\n",
              "92   GHCND:USW00014764 2013-04-03    0    0    0   72  -16\n",
              "93   GHCND:USW00014764 2013-04-04    0    0    0  117  -32\n",
              "94   GHCND:USW00014764 2013-04-05    0    0    0  122   17\n",
              "95   GHCND:USW00014764 2013-04-06    0    0    0   56  -32\n",
              "96   GHCND:USW00014764 2013-04-07    0    0    0   78  -38\n",
              "97   GHCND:USW00014764 2013-04-08    0    0    0  161   17\n",
              "98   GHCND:USW00014764 2013-04-09   46    0    0  111   56\n",
              "99   GHCND:USW00014764 2013-04-10  119    0    0  128   56\n",
              "100  GHCND:USW00014764 2013-04-11   13    0    0  117   44\n",
              "101  GHCND:USW00014764 2013-04-12   97    0    5   44   11\n",
              "102  GHCND:USW00014764 2013-04-13   18    0    0   89    6\n",
              "103  GHCND:USW00014764 2013-04-14   18    0    0  100   39\n",
              "104  GHCND:USW00014764 2013-04-15    0    0    0  106   -5\n",
              "105  GHCND:USW00014764 2013-04-16    0    0    0  139   28\n",
              "106  GHCND:USW00014764 2013-04-17    0    0    0  172   61\n",
              "107  GHCND:USW00014764 2013-04-18    0    0    0   94    0\n",
              "108  GHCND:USW00014764 2013-04-19    0    0    0  183   78\n",
              "109  GHCND:USW00014764 2013-04-20   46    0    0  139   50\n",
              "110  GHCND:USW00014764 2013-04-21    0    0    0  111   -5\n",
              "111  GHCND:USW00014764 2013-04-22    0    0    0   83   -5\n",
              "112  GHCND:USW00014764 2013-04-23    3    0    0   56    0\n",
              "113  GHCND:USW00014764 2013-04-24   13    0    0  178   56\n",
              "114  GHCND:USW00014764 2013-04-25    5    0    0  178   67\n",
              "115  GHCND:USW00014764 2013-04-26    0    0    0  117    6\n",
              "116  GHCND:USW00014764 2013-04-27    0    0    0  139   11\n",
              "117  GHCND:USW00014764 2013-04-28    0    0    0  161   11\n",
              "118  GHCND:USW00014764 2013-04-29    0    0    0  156   28\n",
              "119  GHCND:USW00014764 2013-04-30    0    0    0  178   22"
            ]
          },
          "execution_count": 65,
          "metadata": {},
          "output_type": "execute_result"
        }
      ],
      "source": [
        "# get all rows from April\n",
        "\n",
        "april = df['DATE'].dt.month == 4\n",
        "\n",
        "df_april = df.loc[april]\n",
        "df_april"
      ]
    },
    {
      "cell_type": "code",
      "execution_count": 66,
      "metadata": {
        "id": "8MHpKS7zEhC1"
      },
      "outputs": [
        {
          "data": {
            "text/plain": [
              "90     128\n",
              "91      39\n",
              "92      72\n",
              "93     117\n",
              "94     122\n",
              "95      56\n",
              "96      78\n",
              "97     161\n",
              "98     111\n",
              "99     128\n",
              "100    117\n",
              "101     44\n",
              "102     89\n",
              "103    100\n",
              "104    106\n",
              "105    139\n",
              "106    172\n",
              "107     94\n",
              "108    183\n",
              "109    139\n",
              "110    111\n",
              "111     83\n",
              "112     56\n",
              "113    178\n",
              "114    178\n",
              "115    117\n",
              "116    139\n",
              "117    161\n",
              "118    156\n",
              "119    178\n",
              "Name: TMAX, dtype: object"
            ]
          },
          "execution_count": 66,
          "metadata": {},
          "output_type": "execute_result"
        }
      ],
      "source": [
        "# get the TMAX values from the April rows\n",
        "\n",
        "df_april['TMAX']"
      ]
    }
  ],
  "metadata": {
    "colab": {
      "provenance": [],
      "toc_visible": true
    },
    "kernelspec": {
      "display_name": "Python 3",
      "name": "python3"
    },
    "language_info": {
      "codemirror_mode": {
        "name": "ipython",
        "version": 3
      },
      "file_extension": ".py",
      "mimetype": "text/x-python",
      "name": "python",
      "nbconvert_exporter": "python",
      "pygments_lexer": "ipython3",
      "version": "3.13.7"
    }
  },
  "nbformat": 4,
  "nbformat_minor": 0
}
