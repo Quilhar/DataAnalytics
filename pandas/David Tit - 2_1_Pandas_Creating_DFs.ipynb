{
  "cells": [
    {
      "cell_type": "markdown",
      "metadata": {
        "id": "1Js1PSEs8cLJ"
      },
      "source": [
        "The pandas package is the most important tool at the disposal of Data Scientists and Analysts working in Python today.\n",
        "\n",
        "# **What's Pandas for?**\n",
        "This tool is essentially your data’s home. Through pandas, you get acquainted with your data by cleaning, transforming, and analyzing it.\n",
        "\n",
        "For example, say you want to explore a dataset stored in a CSV on your computer. Pandas will extract the data from that CSV into a DataFrame — a table, basically — then let you do things like:\n",
        "\n",
        "Calculate statistics and answer questions about the data, like\n",
        "\n",
        "*   What's the average, median, max, or min of each column?\n",
        "*   Does column A correlate with column B?\n",
        "*   What does the distribution of data in column C look like?\n",
        "*   Clean the data by doing things like removing missing values and filtering rows or columns by some criteria\n",
        "*   Visualize the data with help from Matplotlib. Plot bars, lines, histograms, bubbles, and more.\n",
        "*   Store the cleaned, transformed data back into a CSV, other file or database\n",
        "\n",
        "Before you jump into the modeling or the complex visualizations you need to have a good understanding of the nature of your dataset and pandas is the best avenue through which to do that."
      ]
    },
    {
      "cell_type": "markdown",
      "metadata": {
        "id": "kEtVvJGO9cS1"
      },
      "source": [
        "# **How does pandas fit into the data science toolkit?**\n",
        "Not only is the pandas library a central component of the data science toolkit but it is used in conjunction with other libraries in that collection.\n",
        "\n",
        "Pandas is built on top of the **NumPy** package, meaning a lot of the structure of NumPy is used or replicated in Pandas. Data in pandas is often used to feed statistical analysis in **SciPy**, plotting functions from **Matplotlib**, and machine learning algorithms in **Scikit-learn**.\n",
        "\n",
        "Jupyter Notebooks (with the .ipynb file extension) offer a good environment for using pandas to do data exploration and modeling, but pandas can also be used in text editors just as easily.\n",
        "\n",
        "Coding Notebooks give us the ability to execute code in a particular cell as opposed to running the entire file. This saves a lot of time when working with large datasets and complex transformations. Notebooks also provide an easy way to visualize pandas’ DataFrames and plots."
      ]
    },
    {
      "cell_type": "markdown",
      "metadata": {
        "id": "EXMXB0_K-Ebs"
      },
      "source": [
        "# **Pandas First Steps**\n"
      ]
    },
    {
      "cell_type": "markdown",
      "metadata": {
        "id": "v-T8An1flhTE"
      },
      "source": [
        "## Install and import\n",
        "Pandas is an easy package to install. Open up your terminal program (for Mac users) or command line (for PC users) and install it using either of the following commands:\n",
        "\n",
        "    pip install pandas\n",
        "\n",
        "**`pip3`** on Macs\n",
        "\n",
        "To import pandas we usually import it with a shorter name since it's used so much:\n",
        "\n",
        "    import pandas as pd\n",
        "\n"
      ]
    },
    {
      "cell_type": "code",
      "execution_count": 28,
      "metadata": {
        "id": "T_1AfdjHlnZ8"
      },
      "outputs": [],
      "source": [
        "# add imports pandas and numpy\n",
        "import pandas as pd \n",
        "import numpy as np\n",
        "from portland_wx import getting_weather_data"
      ]
    },
    {
      "cell_type": "markdown",
      "metadata": {
        "id": "oKQRPgG5luq_"
      },
      "source": [
        "## Core components of pandas: Series and DataFrames\n",
        "The primary two components of pandas are the Series and DataFrame.\n",
        "\n",
        "A ***Series*** is essentially a column, and a ***DataFrame*** is a multi-dimensional table made up of a collection of Series.\n",
        "\n",
        "DataFrames and Series are quite similar in that many operations that you can do with one you can do with the other, such as filling in null values and calculating the mean.\n",
        "\n",
        "You'll see how these components work when we start working with data below.\n",
        "\n",
        "\n"
      ]
    },
    {
      "cell_type": "markdown",
      "metadata": {
        "id": "vx40JrScl1fZ"
      },
      "source": [
        "## Creating DataFrames from scratch\n",
        "Creating DataFrames right in Python is good to know and quite useful when testing new methods and functions you find in the pandas docs.\n",
        "\n",
        "There are many ways to create a DataFrame from scratch, but a great option is to just use a simple `dict`.\n",
        "\n",
        "Let's say we have a fruit stand that sells apples and oranges. We want to have a column for each fruit and a row for each customer purchase. To organize this as a dictionary for pandas we could do something like:"
      ]
    },
    {
      "cell_type": "code",
      "execution_count": 11,
      "metadata": {
        "id": "1kLt2612_UjM"
      },
      "outputs": [
        {
          "data": {
            "text/html": [
              "<div>\n",
              "<style scoped>\n",
              "    .dataframe tbody tr th:only-of-type {\n",
              "        vertical-align: middle;\n",
              "    }\n",
              "\n",
              "    .dataframe tbody tr th {\n",
              "        vertical-align: top;\n",
              "    }\n",
              "\n",
              "    .dataframe thead th {\n",
              "        text-align: right;\n",
              "    }\n",
              "</style>\n",
              "<table border=\"1\" class=\"dataframe\">\n",
              "  <thead>\n",
              "    <tr style=\"text-align: right;\">\n",
              "      <th></th>\n",
              "      <th>animal</th>\n",
              "      <th>age</th>\n",
              "      <th>visits</th>\n",
              "      <th>priority</th>\n",
              "    </tr>\n",
              "  </thead>\n",
              "  <tbody>\n",
              "    <tr>\n",
              "      <th>0</th>\n",
              "      <td>cat</td>\n",
              "      <td>2.5</td>\n",
              "      <td>1</td>\n",
              "      <td>yes</td>\n",
              "    </tr>\n",
              "    <tr>\n",
              "      <th>1</th>\n",
              "      <td>cat</td>\n",
              "      <td>3.0</td>\n",
              "      <td>3</td>\n",
              "      <td>yes</td>\n",
              "    </tr>\n",
              "    <tr>\n",
              "      <th>2</th>\n",
              "      <td>snake</td>\n",
              "      <td>0.5</td>\n",
              "      <td>2</td>\n",
              "      <td>no</td>\n",
              "    </tr>\n",
              "    <tr>\n",
              "      <th>3</th>\n",
              "      <td>dog</td>\n",
              "      <td>NaN</td>\n",
              "      <td>3</td>\n",
              "      <td>yes</td>\n",
              "    </tr>\n",
              "    <tr>\n",
              "      <th>4</th>\n",
              "      <td>dog</td>\n",
              "      <td>5.0</td>\n",
              "      <td>2</td>\n",
              "      <td>no</td>\n",
              "    </tr>\n",
              "    <tr>\n",
              "      <th>5</th>\n",
              "      <td>cat</td>\n",
              "      <td>2.0</td>\n",
              "      <td>3</td>\n",
              "      <td>no</td>\n",
              "    </tr>\n",
              "    <tr>\n",
              "      <th>6</th>\n",
              "      <td>snake</td>\n",
              "      <td>4.5</td>\n",
              "      <td>1</td>\n",
              "      <td>no</td>\n",
              "    </tr>\n",
              "    <tr>\n",
              "      <th>7</th>\n",
              "      <td>cat</td>\n",
              "      <td>NaN</td>\n",
              "      <td>1</td>\n",
              "      <td>yes</td>\n",
              "    </tr>\n",
              "    <tr>\n",
              "      <th>8</th>\n",
              "      <td>dog</td>\n",
              "      <td>7.0</td>\n",
              "      <td>2</td>\n",
              "      <td>no</td>\n",
              "    </tr>\n",
              "    <tr>\n",
              "      <th>9</th>\n",
              "      <td>dog</td>\n",
              "      <td>3.0</td>\n",
              "      <td>1</td>\n",
              "      <td>no</td>\n",
              "    </tr>\n",
              "  </tbody>\n",
              "</table>\n",
              "</div>"
            ],
            "text/plain": [
              "  animal  age  visits priority\n",
              "0    cat  2.5       1      yes\n",
              "1    cat  3.0       3      yes\n",
              "2  snake  0.5       2       no\n",
              "3    dog  NaN       3      yes\n",
              "4    dog  5.0       2       no\n",
              "5    cat  2.0       3       no\n",
              "6  snake  4.5       1       no\n",
              "7    cat  NaN       1      yes\n",
              "8    dog  7.0       2       no\n",
              "9    dog  3.0       1       no"
            ]
          },
          "execution_count": 11,
          "metadata": {},
          "output_type": "execute_result"
        }
      ],
      "source": [
        "# Create a DataFrame df from this dictionary \"data\"\n",
        "\n",
        "data = {'animal': ['cat', 'cat', 'snake', 'dog', 'dog', 'cat', 'snake', 'cat', 'dog', 'dog'],\n",
        "        'age': [2.5, 3, 0.5, np.nan, 5, 2, 4.5, np.nan, 7, 3],\n",
        "        'visits': [1, 3, 2, 3, 2, 3, 1, 1, 2, 1],\n",
        "        'priority': ['yes', 'yes', 'no', 'yes', 'no', 'no', 'no', 'yes', 'no', 'no']}\n",
        "\n",
        "data_df = pd.DataFrame(data)\n",
        "\n",
        "data_df"
      ]
    },
    {
      "cell_type": "markdown",
      "metadata": {
        "id": "kc5tJyfbmNQd"
      },
      "source": [
        "The dictionary-list constructor assigns values to the column labels, but just uses an ascending count from 0 (0, 1, 2, 3, ...) for the row labels."
      ]
    },
    {
      "cell_type": "markdown",
      "metadata": {
        "id": "iXzh14s_mbO1"
      },
      "source": [
        "Sometimes this is OK, but oftentimes we will want to assign these labels ourselves.\n",
        "\n",
        "The list of row labels used in a DataFrame is known as an **Index**. We can assign values to it by using an `index` parameter in our constructor. To this we assign a list of values to be used as the index.  `len(list)` must equal the numer of rows of the Dataframe."
      ]
    },
    {
      "cell_type": "code",
      "execution_count": 13,
      "metadata": {
        "id": "3WPNG2_EmhNm"
      },
      "outputs": [
        {
          "data": {
            "text/html": [
              "<div>\n",
              "<style scoped>\n",
              "    .dataframe tbody tr th:only-of-type {\n",
              "        vertical-align: middle;\n",
              "    }\n",
              "\n",
              "    .dataframe tbody tr th {\n",
              "        vertical-align: top;\n",
              "    }\n",
              "\n",
              "    .dataframe thead th {\n",
              "        text-align: right;\n",
              "    }\n",
              "</style>\n",
              "<table border=\"1\" class=\"dataframe\">\n",
              "  <thead>\n",
              "    <tr style=\"text-align: right;\">\n",
              "      <th></th>\n",
              "      <th>animal</th>\n",
              "      <th>age</th>\n",
              "      <th>visits</th>\n",
              "      <th>priority</th>\n",
              "    </tr>\n",
              "  </thead>\n",
              "  <tbody>\n",
              "    <tr>\n",
              "      <th>a</th>\n",
              "      <td>cat</td>\n",
              "      <td>2.5</td>\n",
              "      <td>1</td>\n",
              "      <td>yes</td>\n",
              "    </tr>\n",
              "    <tr>\n",
              "      <th>b</th>\n",
              "      <td>cat</td>\n",
              "      <td>3.0</td>\n",
              "      <td>3</td>\n",
              "      <td>yes</td>\n",
              "    </tr>\n",
              "    <tr>\n",
              "      <th>c</th>\n",
              "      <td>snake</td>\n",
              "      <td>0.5</td>\n",
              "      <td>2</td>\n",
              "      <td>no</td>\n",
              "    </tr>\n",
              "    <tr>\n",
              "      <th>d</th>\n",
              "      <td>dog</td>\n",
              "      <td>NaN</td>\n",
              "      <td>3</td>\n",
              "      <td>yes</td>\n",
              "    </tr>\n",
              "    <tr>\n",
              "      <th>e</th>\n",
              "      <td>dog</td>\n",
              "      <td>5.0</td>\n",
              "      <td>2</td>\n",
              "      <td>no</td>\n",
              "    </tr>\n",
              "    <tr>\n",
              "      <th>f</th>\n",
              "      <td>cat</td>\n",
              "      <td>2.0</td>\n",
              "      <td>3</td>\n",
              "      <td>no</td>\n",
              "    </tr>\n",
              "    <tr>\n",
              "      <th>g</th>\n",
              "      <td>snake</td>\n",
              "      <td>4.5</td>\n",
              "      <td>1</td>\n",
              "      <td>no</td>\n",
              "    </tr>\n",
              "    <tr>\n",
              "      <th>h</th>\n",
              "      <td>cat</td>\n",
              "      <td>NaN</td>\n",
              "      <td>1</td>\n",
              "      <td>yes</td>\n",
              "    </tr>\n",
              "    <tr>\n",
              "      <th>i</th>\n",
              "      <td>dog</td>\n",
              "      <td>7.0</td>\n",
              "      <td>2</td>\n",
              "      <td>no</td>\n",
              "    </tr>\n",
              "    <tr>\n",
              "      <th>j</th>\n",
              "      <td>dog</td>\n",
              "      <td>3.0</td>\n",
              "      <td>1</td>\n",
              "      <td>no</td>\n",
              "    </tr>\n",
              "  </tbody>\n",
              "</table>\n",
              "</div>"
            ],
            "text/plain": [
              "  animal  age  visits priority\n",
              "a    cat  2.5       1      yes\n",
              "b    cat  3.0       3      yes\n",
              "c  snake  0.5       2       no\n",
              "d    dog  NaN       3      yes\n",
              "e    dog  5.0       2       no\n",
              "f    cat  2.0       3       no\n",
              "g  snake  4.5       1       no\n",
              "h    cat  NaN       1      yes\n",
              "i    dog  7.0       2       no\n",
              "j    dog  3.0       1       no"
            ]
          },
          "execution_count": 13,
          "metadata": {},
          "output_type": "execute_result"
        }
      ],
      "source": [
        "# Create a DataFrame df from this dictionary \"data\" which has the index \"labels\".\n",
        "\n",
        "labels = ['a', 'b', 'c', 'd', 'e', 'f', 'g', 'h', 'i', 'j']\n",
        "data = {'animal': ['cat', 'cat', 'snake', 'dog', 'dog', 'cat', 'snake', 'cat', 'dog', 'dog'],\n",
        "        'age': [2.5, 3, 0.5, np.nan, 5, 2, 4.5, np.nan, 7, 3],\n",
        "        'visits': [1, 3, 2, 3, 2, 3, 1, 1, 2, 1],\n",
        "        'priority': ['yes', 'yes', 'no', 'yes', 'no', 'no', 'no', 'yes', 'no', 'no']}\n",
        "\n",
        "data_df2 = pd.DataFrame(data, index=labels)\n",
        "\n",
        "data_df2"
      ]
    },
    {
      "cell_type": "markdown",
      "metadata": {
        "id": "J-UMrZQ3qbb8"
      },
      "source": [
        "## Creating Series from scratch\n",
        "\n",
        "A **Series**, by contrast, is a sequence of data values. If a DataFrame is a table, a Series is a list. And in fact you can create one with nothing more than a list:"
      ]
    },
    {
      "cell_type": "code",
      "execution_count": 14,
      "metadata": {
        "id": "cRGHpxWjqoGu"
      },
      "outputs": [
        {
          "data": {
            "text/plain": [
              "0    1\n",
              "1    2\n",
              "2    3\n",
              "3    4\n",
              "4    5\n",
              "dtype: int64"
            ]
          },
          "execution_count": 14,
          "metadata": {},
          "output_type": "execute_result"
        }
      ],
      "source": [
        "# basic Pandas Series\n",
        "sample_series1 = pd.Series([1, 2, 3, 4, 5])\n",
        "\n",
        "sample_series1"
      ]
    },
    {
      "cell_type": "markdown",
      "metadata": {
        "id": "xOv6_fuhqyUw"
      },
      "source": [
        "A Series is, in essence, a single column of a DataFrame. So you can assign row labels to the Series the same way as before, using an index parameter. However, a Series does not have a column name, it only has one overall name:"
      ]
    },
    {
      "cell_type": "code",
      "execution_count": 17,
      "metadata": {
        "id": "Pz823C1tqzjx"
      },
      "outputs": [
        {
          "data": {
            "text/plain": [
              "2015 Sales    20\n",
              "2016 Sales    30\n",
              "2017 Sales    40\n",
              "Name: Product A, dtype: int64"
            ]
          },
          "execution_count": 17,
          "metadata": {},
          "output_type": "execute_result"
        }
      ],
      "source": [
        "# Series with specific index names and Series name\n",
        "sample_series2 = pd.Series([20, 30, 40], index = ['2015 Sales', '2016 Sales', '2017 Sales'], name = 'Product A')\n",
        "sample_series2"
      ]
    },
    {
      "cell_type": "code",
      "execution_count": 6,
      "metadata": {
        "id": "k9fDAAp-DH7o"
      },
      "outputs": [],
      "source": [
        "# Convert a Pandas Series to a Python list\n"
      ]
    },
    {
      "cell_type": "markdown",
      "metadata": {
        "id": "7PlhZgo1FY5B"
      },
      "source": [
        "## Conerting Pandas back to Python\n",
        "\n",
        "Almost any calculation/manipulation you might want to do with a Python List or Dictionary can be done as a Pandas Series or DataFrame.  However if you ever need to convert back to Python objects you can use `pd.to_list()` or `pd.to_dict()`"
      ]
    },
    {
      "cell_type": "code",
      "execution_count": 18,
      "metadata": {
        "id": "aJkRhutbFZk0"
      },
      "outputs": [
        {
          "data": {
            "text/plain": [
              "{'animal': {0: 'cat',\n",
              "  1: 'cat',\n",
              "  2: 'snake',\n",
              "  3: 'dog',\n",
              "  4: 'dog',\n",
              "  5: 'cat',\n",
              "  6: 'snake',\n",
              "  7: 'cat',\n",
              "  8: 'dog',\n",
              "  9: 'dog'},\n",
              " 'age': {0: 2.5,\n",
              "  1: 3.0,\n",
              "  2: 0.5,\n",
              "  3: nan,\n",
              "  4: 5.0,\n",
              "  5: 2.0,\n",
              "  6: 4.5,\n",
              "  7: nan,\n",
              "  8: 7.0,\n",
              "  9: 3.0},\n",
              " 'visits': {0: 1, 1: 3, 2: 2, 3: 3, 4: 2, 5: 3, 6: 1, 7: 1, 8: 2, 9: 1},\n",
              " 'priority': {0: 'yes',\n",
              "  1: 'yes',\n",
              "  2: 'no',\n",
              "  3: 'yes',\n",
              "  4: 'no',\n",
              "  5: 'no',\n",
              "  6: 'no',\n",
              "  7: 'yes',\n",
              "  8: 'no',\n",
              "  9: 'no'}}"
            ]
          },
          "execution_count": 18,
          "metadata": {},
          "output_type": "execute_result"
        }
      ],
      "source": [
        "# Convert the two Series above to the appropriate Python container.\n",
        "# Check the type of each to be sure you made the correct conversions\n",
        "\n",
        "data_dict = data_df.to_dict()\n",
        "data_dict"
      ]
    },
    {
      "cell_type": "markdown",
      "metadata": {
        "id": "KlbQNebEC1tH"
      },
      "source": [
        "# Your Turn\n",
        "\n",
        "Fill a Python dictionary with the data from the PortlandWeather data file used the previous project.\n",
        "\n",
        "Make a pandas dataframe from the dictionary and see if you can create a new df."
      ]
    },
    {
      "cell_type": "code",
      "execution_count": 2,
      "metadata": {
        "id": "2Er8VnH2Em1y"
      },
      "outputs": [
        {
          "ename": "NameError",
          "evalue": "name 'pw' is not defined",
          "output_type": "error",
          "traceback": [
            "\u001b[31m---------------------------------------------------------------------------\u001b[39m",
            "\u001b[31mNameError\u001b[39m                                 Traceback (most recent call last)",
            "\u001b[36mCell\u001b[39m\u001b[36m \u001b[39m\u001b[32mIn[2]\u001b[39m\u001b[32m, line 2\u001b[39m\n\u001b[32m      1\u001b[39m \u001b[38;5;66;03m# Store PortlandWeather data in a Python dictionary\u001b[39;00m\n\u001b[32m----> \u001b[39m\u001b[32m2\u001b[39m wx_data = \u001b[43mpw\u001b[49m.getting_weather_data(\u001b[33m'\u001b[39m\u001b[33m/Users/244213/Desktop/DataAnalytics/PythonReview/PortlandWeather2013.txt\u001b[39m\u001b[33m'\u001b[39m)\n\u001b[32m      4\u001b[39m wx_data\n",
            "\u001b[31mNameError\u001b[39m: name 'pw' is not defined"
          ]
        }
      ],
      "source": [
        "# Store PortlandWeather data in a Python dictionary\n",
        "wx_data = pw.getting_weather_data('/Users/244213/Desktop/DataAnalytics/PythonReview/PortlandWeather2013.txt')\n",
        "\n",
        "wx_data"
      ]
    },
    {
      "cell_type": "code",
      "execution_count": null,
      "metadata": {
        "id": "Jw7k2NdSZ_W5"
      },
      "outputs": [],
      "source": [
        "# Create a Pandas dataframe\n",
        "\n",
        "wx_df = pd.DataFrame(wx_data)\n",
        "\n",
        "wx_df\n"
      ]
    }
  ],
  "metadata": {
    "colab": {
      "provenance": []
    },
    "kernelspec": {
      "display_name": "Python 3",
      "name": "python3"
    },
    "language_info": {
      "codemirror_mode": {
        "name": "ipython",
        "version": 3
      },
      "file_extension": ".py",
      "mimetype": "text/x-python",
      "name": "python",
      "nbconvert_exporter": "python",
      "pygments_lexer": "ipython3",
      "version": "3.13.7"
    }
  },
  "nbformat": 4,
  "nbformat_minor": 0
}
