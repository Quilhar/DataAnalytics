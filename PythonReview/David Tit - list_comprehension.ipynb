{
  "cells": [
    {
      "cell_type": "markdown",
      "metadata": {
        "id": "PgxDqSNeve3N"
      },
      "source": [
        "# List Comprehension\n",
        "List comprehensions provide a concise way to create lists. Common applications are to make new lists where each element is the result of some operations applied to each member of another sequence or iterable, or to create a subsequence of those elements that satisfy a certain condition.\n",
        "\n",
        "\n",
        "\n"
      ]
    },
    {
      "cell_type": "code",
      "execution_count": 1,
      "metadata": {
        "id": "FMNOEeVCwAJH"
      },
      "outputs": [
        {
          "name": "stdout",
          "output_type": "stream",
          "text": [
            "[0, 1, 4, 9, 16, 25, 36, 49, 64, 81]\n"
          ]
        }
      ],
      "source": [
        "squares = []\n",
        "for x in range(10):\n",
        "   squares.append(x**2)\n",
        "\n",
        "print(squares)"
      ]
    },
    {
      "cell_type": "markdown",
      "metadata": {
        "id": "YCrxzixEwkeD"
      },
      "source": [
        "Note that this creates (or overwrites) a variable named x that still exists after the loop completes. We can calculate the list of squares without any side effects using:\n"
      ]
    },
    {
      "cell_type": "code",
      "execution_count": 2,
      "metadata": {
        "id": "1t5W9StVwuL-"
      },
      "outputs": [
        {
          "name": "stdout",
          "output_type": "stream",
          "text": [
            "[0, 1, 4, 9, 16, 25, 36, 49, 64, 81]\n"
          ]
        }
      ],
      "source": [
        "squares = [x**2 for x in range(10)]\n",
        "print(squares)"
      ]
    },
    {
      "cell_type": "markdown",
      "metadata": {
        "id": "IjRh4QJ6KlHG"
      },
      "source": [
        "## With simple filtering (if . . . )\n",
        "\n",
        "To filter a list, the `if` condition is placed after the `for` loop. This syntax is used when you only want to include elements from the original list that meet a certain condition. The element is only added to the new list if the condition is `True`.\n",
        "\n",
        "`[expression for item in iterable if condition]`\n",
        "\n",
        "For example, to create a new list with only the even numbers from a list `numbers`:"
      ]
    },
    {
      "cell_type": "code",
      "execution_count": 3,
      "metadata": {
        "id": "UOGWkGJfK3X0"
      },
      "outputs": [
        {
          "data": {
            "text/plain": [
              "[2, 4, 6]"
            ]
          },
          "execution_count": 3,
          "metadata": {},
          "output_type": "execute_result"
        }
      ],
      "source": [
        "numbers = [1, 2, 3, 4, 5, 6]\n",
        "even_numbers = [num for num in numbers if num % 2 == 0]\n",
        "even_numbers"
      ]
    },
    {
      "cell_type": "markdown",
      "metadata": {
        "id": "TfX60TweLgzP"
      },
      "source": [
        "## With complex filtering (if...else...)\n",
        "\n",
        "To transform elements based on a condition, the if...else is a full expression and is placed before the for loop. This syntax ensures that every element from the original list is included in the new list, but its value is determined by the condition.\n",
        "\n",
        "Here's the syntax:\n",
        "\n",
        "`[value_if_true if condition else value_if_false for item in iterable]`\n",
        "\n",
        "For example, to label each number in a list as either \"Even\" or \"Odd\":"
      ]
    },
    {
      "cell_type": "code",
      "execution_count": 4,
      "metadata": {
        "colab": {
          "base_uri": "https://localhost:8080/"
        },
        "id": "5DsMlDt-L4XJ",
        "outputId": "6b35c842-c4e6-4f5a-ef1b-5bb2686fe2c9"
      },
      "outputs": [
        {
          "data": {
            "text/plain": [
              "['Odd', 'Even', 'Odd', 'Even', 'Odd']"
            ]
          },
          "execution_count": 4,
          "metadata": {},
          "output_type": "execute_result"
        }
      ],
      "source": [
        "numbers = [1, 2, 3, 4, 5]\n",
        "labels = [\"Even\" if num % 2 == 0 else \"Odd\" for num in numbers]\n",
        "labels"
      ]
    },
    {
      "cell_type": "markdown",
      "metadata": {
        "id": "gcpKZjKrKh1W"
      },
      "source": [
        "## Nested Loops"
      ]
    },
    {
      "cell_type": "markdown",
      "metadata": {
        "id": "Le4XrauyxY-S"
      },
      "source": [
        "A list comprehension consists of brackets containing an expression followed by a *for* clause, then zero or more *for* or *if* clauses. The result will be a new list resulting from evaluating the expression in the context of the *for* and *if* clauses which follow it. For example, this listcomp combines the elements of two lists if they are not equal:\n"
      ]
    },
    {
      "cell_type": "code",
      "execution_count": 5,
      "metadata": {
        "id": "rwImkCKcw4OT"
      },
      "outputs": [
        {
          "name": "stdout",
          "output_type": "stream",
          "text": [
            "[(1, 3), (1, 4), (2, 3), (2, 1), (2, 4), (3, 1), (3, 4)]\n"
          ]
        }
      ],
      "source": [
        "ordered_pairs = [(x, y) for x in [1,2,3] for y in [3,1,4] if x != y]\n",
        "print (ordered_pairs)\n"
      ]
    },
    {
      "cell_type": "markdown",
      "metadata": {
        "id": "XEPwZJyryAjd"
      },
      "source": [
        "and it’s equivalent to:"
      ]
    },
    {
      "cell_type": "code",
      "execution_count": 15,
      "metadata": {
        "id": "M0jleNSJyEwc"
      },
      "outputs": [
        {
          "name": "stdout",
          "output_type": "stream",
          "text": [
            "[(1, 3), (1, 4), (2, 3), (2, 1), (2, 4), (3, 1), (3, 4)]\n"
          ]
        }
      ],
      "source": [
        "combs = []\n",
        "\n",
        "for x in [1,2,3]:\n",
        "   for y in [3,1,4]:\n",
        "\n",
        "        if x != y:\n",
        "            combs.append((x, y))\n",
        "\n",
        "print (combs)\n"
      ]
    },
    {
      "cell_type": "markdown",
      "metadata": {
        "id": "ZSkLRMpCyaMh"
      },
      "source": [
        "## Iterables:\n",
        "\n",
        "    1. characters in a string"
      ]
    },
    {
      "cell_type": "code",
      "execution_count": 10,
      "metadata": {
        "id": "0pQSCFf6zDHb"
      },
      "outputs": [
        {
          "name": "stdout",
          "output_type": "stream",
          "text": [
            "['i', 'i', 'e', 'e', 'e', 'e', 'i', 'u', 'e', 'o', 'i', 'e', 'a', 'e']\n"
          ]
        }
      ],
      "source": [
        "sentence = 'This is the sentence I will use for this example'\n",
        "vowels = 'aeiou'\n",
        "\n",
        "# get the vowels used in the sentence\n",
        "vowels_used = [letter for letter in sentence if letter in vowels]\n",
        "print(vowels_used)"
      ]
    },
    {
      "cell_type": "markdown",
      "metadata": {
        "id": "FEKjw2UUzpYT"
      },
      "source": [
        "    2. elements in a list\n"
      ]
    },
    {
      "cell_type": "code",
      "execution_count": null,
      "metadata": {
        "id": "qE4pC87GzkvV"
      },
      "outputs": [],
      "source": [
        "sample_list = [0, 1, 2, 3, 4, 5, 6, 7, 8, 9, 10]\n",
        "\n",
        "# get the odd values from the list\n",
        "odds = [num for num in sample_list if num%2 == 1]   # if num%2 != 0\n",
        "print(odds)"
      ]
    },
    {
      "cell_type": "markdown",
      "metadata": {
        "id": "DCkZPfoo2CYE"
      },
      "source": [
        "    3. keys in a dictionary\n"
      ]
    },
    {
      "cell_type": "code",
      "execution_count": null,
      "metadata": {
        "id": "aOTMPFkZ2SCC"
      },
      "outputs": [],
      "source": [
        "sample_dict = {\"name\": \"John Doe\", \"age\": 23, \"address\":\"1060 West Addison\"}\n",
        "\n",
        "# get the keys from the dict\n",
        "keys = [key for key in sample_dict]\n",
        "print(keys)"
      ]
    },
    {
      "cell_type": "markdown",
      "metadata": {
        "id": "Wq6_BPQ320pu"
      },
      "source": [
        "    4. keys, values in dict.items()"
      ]
    },
    {
      "cell_type": "code",
      "execution_count": null,
      "metadata": {
        "id": "Mom4mIEC25Qa"
      },
      "outputs": [],
      "source": [
        "sample_dict = {\"name\": \"John Doe\", \"age\": 23, \"address\":\"1060 West Addison\"}\n",
        "\n",
        "# get the keys AND values from the dict, I only keep the values\n",
        "values = [value for key, value in sample_dict.items()]\n",
        "print(values)"
      ]
    },
    {
      "cell_type": "markdown",
      "metadata": {
        "id": "m0T12GVi4LZB"
      },
      "source": [
        "## Common methods that return iterables:\n",
        "    1. range(first, last[, step])"
      ]
    },
    {
      "cell_type": "code",
      "execution_count": 16,
      "metadata": {
        "id": "OdFdDbKH4Pos"
      },
      "outputs": [
        {
          "name": "stdout",
          "output_type": "stream",
          "text": [
            "[0, 2, 4, 6, 8, 10, 12, 14, 16, 18]\n"
          ]
        }
      ],
      "source": [
        "# easy way to create a list of values needed, in this case evens 0 - 20\n",
        "evens_exc = [number for number in range(0, 20, 2)]\n",
        "print(evens_exc)\n"
      ]
    },
    {
      "cell_type": "code",
      "execution_count": null,
      "metadata": {
        "id": "RuA_H0ym5DoC"
      },
      "outputs": [],
      "source": [
        "# remember that range STOP value is exclusive, if you want that value go one above\n",
        "evens_inc = [number for number in range(0, 21, 2)]\n",
        "print(evens_inc)"
      ]
    },
    {
      "cell_type": "code",
      "execution_count": null,
      "metadata": {
        "id": "TQJWULVn72wr"
      },
      "outputs": [],
      "source": [
        "# values from 0 - 100\n",
        "numbers = [x for x in range(101)]\n",
        "\n",
        "# what will be the output of the following code?\n",
        "nums = [numbers[index] for index in range(1, len(numbers)) if index%3 == 0]\n",
        "print(nums)"
      ]
    },
    {
      "cell_type": "markdown",
      "metadata": {
        "id": "8rDFKQCM5N3H"
      },
      "source": [
        "    2. string and list slicing - object[start:stop[: step]]"
      ]
    },
    {
      "cell_type": "code",
      "execution_count": null,
      "metadata": {
        "id": "VUH3m8rQ5kL4"
      },
      "outputs": [],
      "source": [
        "sentence = 'This is the sentence I will use for this example'\n",
        "\n",
        "# can you determine the output before running this code?\n",
        "chars = [char for char in sentence[:4:2]]\n",
        "print(chars)"
      ]
    },
    {
      "cell_type": "code",
      "execution_count": null,
      "metadata": {
        "id": "VeHqkT5m9E0O"
      },
      "outputs": [],
      "source": [
        "# values from 0 - 100\n",
        "values = [x for x in range(101)]\n",
        "\n",
        "# what will be the output of the following code?\n",
        "nums = [num for num in values[3::3]]\n",
        "print(nums)"
      ]
    },
    {
      "cell_type": "markdown",
      "metadata": {
        "id": "HWzYHGTK9fIY"
      },
      "source": [
        "# Challenges"
      ]
    },
    {
      "cell_type": "markdown",
      "metadata": {
        "id": "pay2EDvVHanT"
      },
      "source": [
        "## Challenge 1:\n",
        "\n",
        "Create a new list called `uppercase_fruits` that contains each fruit name from the list fruits converted to uppercase.\n",
        "\n",
        "`fruits = [\"apple\", \"banana\", \"cherry\", \"date\"]`"
      ]
    },
    {
      "cell_type": "code",
      "execution_count": 8,
      "metadata": {
        "id": "V_Ts46oCH1xb"
      },
      "outputs": [
        {
          "name": "stdout",
          "output_type": "stream",
          "text": [
            "['Apples', 'Banana', 'Cherry', 'Date']\n"
          ]
        }
      ],
      "source": [
        "# Challenge 1\n",
        "\n",
        "fruits = ['apples', 'banana', 'cherry', 'date']\n",
        "\n",
        "## What it would be like normally without list comprehension\n",
        "\n",
        "# uppercase_fruits = []\n",
        "\n",
        "# for word in fruits:\n",
        "#     uppercase_fruits.append(word.capitalize())\n",
        "    \n",
        "# print(uppercase_fruits)\n",
        "\n",
        "uppercase_fruits = [word.capitalize() for word in fruits]\n",
        "print(uppercase_fruits)"
      ]
    },
    {
      "cell_type": "markdown",
      "metadata": {
        "id": "dndmARgQH4ew"
      },
      "source": [
        "## Challenge 2\n",
        "\n",
        "Create a new list called `filtered_squares` that contains the square of each number from the list numbers, but only if the squared number is greater than 50."
      ]
    },
    {
      "cell_type": "code",
      "execution_count": null,
      "metadata": {
        "id": "ZI6A2hg1IFP6"
      },
      "outputs": [
        {
          "name": "stdout",
          "output_type": "stream",
          "text": [
            "[8, 9, 10]\n"
          ]
        }
      ],
      "source": [
        "# Challenge 2\n",
        "\n",
        "numbers = [1,2,3,4,5,6,7,8,9,10]\n",
        "filtered_squares = []\n",
        "\n",
        "# What it would be without list comphrension \n",
        "\n",
        "# for x in range(10):\n",
        "#     if x**2 > 50:\n",
        "#         filtered_squares.append(x)\n",
        "        \n",
        "# print(filtered_squares)\n",
        "\n",
        "filtered_squares = [x for x in numbers if x**2 > 50]\n",
        "print(filtered_squares)\n"
      ]
    },
    {
      "cell_type": "markdown",
      "metadata": {
        "id": "kLZ5Mz1_N4mV"
      },
      "source": [
        "## Challenge 3\n",
        "\n",
        "Create a single line of Python code using list comprehension to process the `daily_temperatures` list. The new list should contain:\n",
        "\n",
        "The Celsius temperature, converted to Fahrenheit, only if the Celsius temperature is greater than 10 degrees.\n",
        "\n",
        "The string `\"Not above 10°C\"` for any temperature that is 10 degrees Celsius or less.\n",
        "\n",
        "`daily_temperatures = [12.5, 8.0, 15.2, 9.5, 20.0, 5.8, 10.0]`\n",
        "\n",
        "**Expected Output:**\n",
        "\n",
        "The final list should look exactly like this:\n",
        "\n",
        "`[54.5, 'Not above 10°C', 59.36, 'Not above 10°C', 68.0, 'Not above 10°C', 'Not above 10°C']`"
      ]
    },
    {
      "cell_type": "code",
      "execution_count": 15,
      "metadata": {
        "id": "ghDx7iL3OdYJ"
      },
      "outputs": [
        {
          "name": "stdout",
          "output_type": "stream",
          "text": [
            "[54.5, 'Not above 10°C', 59.36, 'Not above 10°C', 68.0, 'Not above 10°C', 'Not above 10°C']\n"
          ]
        }
      ],
      "source": [
        "# Challenge 3\n",
        "\n",
        "daily_temperatures = [12.5, 8.0, 15.2, 9.5, 20.0, 5.8, 10.0]\n",
        "\n",
        "processed_temperatures = [c * 1.8 + 32 if c > 10  else 'Not above 10°C' for c in daily_temperatures]\n",
        "\n",
        "print(processed_temperatures)"
      ]
    },
    {
      "cell_type": "markdown",
      "metadata": {
        "id": "fvVbu_a5OhYy"
      },
      "source": [
        "## Challenge 4\n",
        "\n",
        "Create a new list called `long_words` that contains the words from `sentence` that are of length `length`\n",
        "\n",
        "```\n",
        "sentence = \"\"\"Would you like me to give you a formula for success?\n",
        "It’s quite simple, really: Double your rate of failure.\n",
        "You are thinking of failure as the enemy of success. But it isn’t at all.\n",
        "You can be discouraged by failure or you can learn from it,\n",
        "so go ahead and make mistakes. Make all you can.\n",
        "Because remember that’s where you will find success.\"\"\"\n",
        "```\n",
        "\n",
        "\n",
        "\n",
        "\n",
        "\n"
      ]
    },
    {
      "cell_type": "code",
      "execution_count": 23,
      "metadata": {
        "id": "JPO3_tWh9kjb"
      },
      "outputs": [
        {
          "name": "stdout",
          "output_type": "stream",
          "text": [
            "['Would', 'formula', 'success?', 'quite', 'simple,', 'really:', 'Double', 'failure.', 'thinking', 'failure', 'enemy', 'success.', 'isn’t', 'discouraged', 'failure', 'learn', 'ahead', 'mistakes.', 'Because', 'remember', 'that’s', 'where', 'success.']\n"
          ]
        }
      ],
      "source": [
        "# Challenge 4\n",
        "\n",
        "sentence = \"\"\"Would you like me to give you a formula for success?\n",
        "It’s quite simple, really: Double your rate of failure.\n",
        "You are thinking of failure as the enemy of success. But it isn’t at all.\n",
        "You can be discouraged by failure or you can learn from it,\n",
        "so go ahead and make mistakes. Make all you can.\n",
        "Because remember that’s where you will find success.\"\"\"\n",
        "\n",
        "length = 5\n",
        "\n",
        "long_words = [word for word in sentence.split() if len(word) >= length]\n",
        "print(long_words)"
      ]
    },
    {
      "cell_type": "markdown",
      "metadata": {
        "id": "aodDebyHPaj4"
      },
      "source": [
        "## Challenge 5\n",
        "\n",
        "Create a single line of Python code using list comprehension to process `sentence` to create a new list called `word_length` that contains the length of each word in `sentence`.  Then use this list to calculate the mean length of words in `sentence`."
      ]
    },
    {
      "cell_type": "code",
      "execution_count": 9,
      "metadata": {
        "id": "yXRABZ8FQIsz"
      },
      "outputs": [
        {
          "name": "stdout",
          "output_type": "stream",
          "text": [
            "4.153846153846154\n"
          ]
        }
      ],
      "source": [
        "# Challenge 5\n",
        "\n",
        "sentence = \"\"\"Would you like me to give you a formula for success?\n",
        "It’s quite simple, really: Double your rate of failure.\n",
        "You are thinking of failure as the enemy of success. But it isn’t at all.\n",
        "You can be discouraged by failure or you can learn from it,\n",
        "so go ahead and make mistakes. Make all you can.\n",
        "Because remember that’s where you will find success.\"\"\"\n",
        "\n",
        "word_length = [len(word.strip(\",.?':\")) for word in sentence.split()]\n",
        "\n",
        "mean_length = sum(word_length) / len(word_length)\n",
        "print(mean_length)"
      ]
    }
  ],
  "metadata": {
    "colab": {
      "provenance": [],
      "toc_visible": true
    },
    "kernelspec": {
      "display_name": "Python 3",
      "name": "python3"
    },
    "language_info": {
      "codemirror_mode": {
        "name": "ipython",
        "version": 3
      },
      "file_extension": ".py",
      "mimetype": "text/x-python",
      "name": "python",
      "nbconvert_exporter": "python",
      "pygments_lexer": "ipython3",
      "version": "3.13.7"
    }
  },
  "nbformat": 4,
  "nbformat_minor": 0
}
