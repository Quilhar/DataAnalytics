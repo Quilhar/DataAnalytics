{
 "cells": [
  {
   "cell_type": "code",
   "execution_count": 9,
   "id": "665d6cfd",
   "metadata": {},
   "outputs": [],
   "source": [
    "import numpy as np\n",
    "import matplotlib.pyplot as plt\n",
    "import data_analytics_lib as dal"
   ]
  },
  {
   "cell_type": "code",
   "execution_count": 10,
   "id": "27b450eb",
   "metadata": {},
   "outputs": [],
   "source": [
    "x = [1.0,2.0,4.0,6.0,5.0,6.0,9.0,8.0,11.0,12.0]\n",
    "y = [14.0,10.0,12.0,9.0,8.0,6.0,4.0,3.0,3.0,10.0]"
   ]
  },
  {
   "cell_type": "code",
   "execution_count": 11,
   "id": "8233ea35",
   "metadata": {},
   "outputs": [],
   "source": [
    "def calculate_residuals(x_data, y_data, fit_type = 1):\n",
    "    \n",
    "    \n",
    "    x_array = np.array(x_data)\n",
    "    y_array = np.array(y_data)\n",
    "    \n",
    "    least_square_line_y_values = []\n",
    "    \n",
    "    fit_residual = []\n",
    "    \n",
    "    if fit_type == 1:\n",
    "        least_squares_coefficients = dal.least_squares_coefficient(x_array, y_array)\n",
    "        \n",
    "        for x in x_array:\n",
    "            least_square_line_y_values.append((least_squares_coefficients[0] * x) + least_squares_coefficients[1])\n",
    "        \n",
    "        for y in y_array:\n",
    "            fit_residual.append(y - least_square_line_y_values[len(fit_residual)])\n",
    "    \n",
    "        residual_mean = np.mean(fit_residual)\n",
    "        residual_std = np.std(fit_residual)\n",
    "        \n",
    "    return fit_residual, residual_mean, residual_std\n",
    "\n",
    "def determine_outliers(residuals, mean, std_dev, n = 2):\n",
    "    outlier_indices = []\n",
    "    bound1 = mean + n * std_dev\n",
    "    bound2 = mean - n * std_dev\n",
    "    \n",
    "    for i in range(len(residuals)):\n",
    "        if residuals[i] > bound1 or residuals[i] < bound2:\n",
    "            outlier_indices.append(i)\n",
    "    \n",
    "    return outlier_indices"
   ]
  },
  {
   "cell_type": "code",
   "execution_count": 14,
   "id": "415c7d0c",
   "metadata": {},
   "outputs": [
    {
     "ename": "TypeError",
     "evalue": "can't multiply sequence by non-int of type 'numpy.float64'",
     "output_type": "error",
     "traceback": [
      "\u001b[31m---------------------------------------------------------------------------\u001b[39m",
      "\u001b[31mTypeError\u001b[39m                                 Traceback (most recent call last)",
      "\u001b[36mCell\u001b[39m\u001b[36m \u001b[39m\u001b[32mIn[14]\u001b[39m\u001b[32m, line 1\u001b[39m\n\u001b[32m----> \u001b[39m\u001b[32m1\u001b[39m residual_list, residual_mean, residual_std = \u001b[43mcalculate_residuals\u001b[49m\u001b[43m(\u001b[49m\u001b[43mx\u001b[49m\u001b[43m,\u001b[49m\u001b[43m \u001b[49m\u001b[43my\u001b[49m\u001b[43m)\u001b[49m\n\u001b[32m      3\u001b[39m \u001b[38;5;66;03m# plt.subplot(2,1,1)\u001b[39;00m\n\u001b[32m      4\u001b[39m dal.graph__least_squares(x, y)\n",
      "\u001b[36mCell\u001b[39m\u001b[36m \u001b[39m\u001b[32mIn[11]\u001b[39m\u001b[32m, line 15\u001b[39m, in \u001b[36mcalculate_residuals\u001b[39m\u001b[34m(x_data, y_data, fit_type)\u001b[39m\n\u001b[32m     12\u001b[39m least_squares_coefficients = dal.least_squares_coefficient(x_array, y_array)\n\u001b[32m     14\u001b[39m \u001b[38;5;28;01mfor\u001b[39;00m x \u001b[38;5;129;01min\u001b[39;00m x_array:\n\u001b[32m---> \u001b[39m\u001b[32m15\u001b[39m     least_square_line_y_values.append((\u001b[43mleast_squares_coefficients\u001b[49m\u001b[43m[\u001b[49m\u001b[32;43m0\u001b[39;49m\u001b[43m]\u001b[49m\u001b[43m \u001b[49m\u001b[43m*\u001b[49m\u001b[43m \u001b[49m\u001b[43mx\u001b[49m) + least_squares_coefficients[\u001b[32m1\u001b[39m])\n\u001b[32m     17\u001b[39m \u001b[38;5;28;01mfor\u001b[39;00m y \u001b[38;5;129;01min\u001b[39;00m y_array:\n\u001b[32m     18\u001b[39m     fit_residual.append(y - least_square_line_y_values[\u001b[38;5;28mlen\u001b[39m(fit_residual)])\n",
      "\u001b[31mTypeError\u001b[39m: can't multiply sequence by non-int of type 'numpy.float64'"
     ]
    }
   ],
   "source": [
    "residual_list, residual_mean, residual_std = calculate_residuals(x, y)\n",
    "\n",
    "# plt.subplot(2,1,1)\n",
    "dal.graph__least_squares(x, y)\n",
    "\n",
    "# plt.subplot(2,1,2)\n",
    "\n"
   ]
  }
 ],
 "metadata": {
  "kernelspec": {
   "display_name": "Python 3",
   "language": "python",
   "name": "python3"
  },
  "language_info": {
   "codemirror_mode": {
    "name": "ipython",
    "version": 3
   },
   "file_extension": ".py",
   "mimetype": "text/x-python",
   "name": "python",
   "nbconvert_exporter": "python",
   "pygments_lexer": "ipython3",
   "version": "3.13.7"
  }
 },
 "nbformat": 4,
 "nbformat_minor": 5
}
