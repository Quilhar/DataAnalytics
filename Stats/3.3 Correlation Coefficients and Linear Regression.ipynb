{
 "cells": [
  {
   "cell_type": "code",
   "execution_count": 16,
   "id": "92600f85",
   "metadata": {},
   "outputs": [],
   "source": [
    "import numpy as np\n"
   ]
  },
  {
   "cell_type": "markdown",
   "id": "ceadef9c",
   "metadata": {},
   "source": [
    "# Exercise - 3A (Correlation Coefficients)"
   ]
  },
  {
   "cell_type": "code",
   "execution_count": 21,
   "id": "06b6adda",
   "metadata": {},
   "outputs": [
    {
     "name": "stdout",
     "output_type": "stream",
     "text": [
      "Correlation Coefficient: 0.5298089018901744\n"
     ]
    }
   ],
   "source": [
    "def find_data_correlation(x_list, y_list):\n",
    "    ''' Function to find correlation coefficient between two lists of data points\n",
    "    Parameters\n",
    "        x_list : list\n",
    "            List of data points for X\n",
    "        y_list : list\n",
    "            List of data points for Y\n",
    "    Returns\n",
    "        corelation_coefficient : float'''\n",
    "    \n",
    "    n = len(x_list)\n",
    "    x_array = np.array(x_list)\n",
    "    y_array = np.array(y_list)\n",
    "    \n",
    "    sum_x = sum(x_list)\n",
    "    sum_y = sum(y_list)\n",
    "    sum_xy = np.sum(x_array * y_array)\n",
    "    sum_x_squared = sum(x ** 2 for x in x_list)\n",
    "    sum_y_squared = sum(y ** 2 for y in y_list)\n",
    "\n",
    "    numerator = (n * sum_xy) - (sum_x * sum_y)\n",
    "    denominator = ((np.sqrt((n * sum_x_squared) - sum_x ** 2)) * (np.sqrt((n * sum_y_squared) - sum_y ** 2)))\n",
    "    \n",
    "    corelation_coefficient = numerator / denominator\n",
    "            \n",
    "    return corelation_coefficient\n",
    "\n",
    "x_list = [43, 21, 25, 42, 57, 59]\n",
    "y_list = [99, 65, 79, 75, 87, 81]\n",
    "correlation_coefficient = find_data_correlation(x_list, y_list)\n",
    "\n",
    "print(\"Correlation Coefficient:\", correlation_coefficient)\n",
    "\n",
    "\n"
   ]
  },
  {
   "cell_type": "markdown",
   "id": "0e58611d",
   "metadata": {},
   "source": [
    "# Exercise - 3B (Least Squares Coefficient)"
   ]
  },
  {
   "cell_type": "code",
   "execution_count": null,
   "id": "ac5a4e0a",
   "metadata": {},
   "outputs": [],
   "source": []
  },
  {
   "cell_type": "code",
   "execution_count": null,
   "id": "2451a789",
   "metadata": {},
   "outputs": [],
   "source": [
    "def matrix_inverse(A, ifit):\n",
    "    ''' Function computes the inverse matrix for either the 2X2 linear least squares matrix\n",
    "    or the 3X3 quadratic least square fit, depending on the value of ifit\n",
    "    \n",
    "    Inputs :\n",
    "        A - The least squares matrix to be inverted input as a 2 dimensional Python list\n",
    "        ifit - the degree of the polynomial to be fitted (either 1 or 2)\n",
    "        \n",
    "        \n",
    "    Outputs :\n",
    "        A_inv - The inverse of the least squares matrix output as a 2\n",
    "        dimensional Python list'''\n",
    "        \n",
    "    A_inv =\n",
    "    \n",
    "    "
   ]
  },
  {
   "cell_type": "code",
   "execution_count": null,
   "id": "b603e5a8",
   "metadata": {},
   "outputs": [],
   "source": [
    "def least_squares_coefficient(x_list, y_list):\n",
    "    ''' Function to find correlation coefficient between two lists of data points\n",
    "    Parameters\n",
    "        x_list : list\n",
    "            List of data points for X\n",
    "        y_list : list\n",
    "            List of data points for Y\n",
    "    Returns\n",
    "        corelation_coefficient : float'''\n",
    "     \n",
    "    n = len(x_list)\n",
    "    \n",
    "    "
   ]
  }
 ],
 "metadata": {
  "kernelspec": {
   "display_name": "Python 3",
   "language": "python",
   "name": "python3"
  },
  "language_info": {
   "codemirror_mode": {
    "name": "ipython",
    "version": 3
   },
   "file_extension": ".py",
   "mimetype": "text/x-python",
   "name": "python",
   "nbconvert_exporter": "python",
   "pygments_lexer": "ipython3",
   "version": "3.13.7"
  }
 },
 "nbformat": 4,
 "nbformat_minor": 5
}
