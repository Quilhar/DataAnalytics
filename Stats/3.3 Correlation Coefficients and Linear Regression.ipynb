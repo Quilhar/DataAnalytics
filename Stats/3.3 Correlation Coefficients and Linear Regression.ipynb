{
 "cells": [
  {
   "cell_type": "code",
   "execution_count": null,
   "id": "92600f85",
   "metadata": {},
   "outputs": [],
   "source": [
    "import numpy as np\n"
   ]
  },
  {
   "cell_type": "markdown",
   "id": "ceadef9c",
   "metadata": {},
   "source": [
    "# Exercise - 3A"
   ]
  },
  {
   "cell_type": "code",
   "execution_count": null,
   "id": "06b6adda",
   "metadata": {},
   "outputs": [
    {
     "name": "stdout",
     "output_type": "stream",
     "text": [
      "247\n"
     ]
    }
   ],
   "source": [
    "def find_data_correlation(x_list, y_list):\n",
    "    corelation_coefficient = 0\n",
    "    n = len(x_list) * len(y_list)\n",
    "    \n",
    "    # for i in range(len(x_list)):\n",
    "    #     sum_x_list = [] \n",
    "    #     sum_x_list = sum(x_list[i])\n",
    "        \n",
    "    #     print(sum_x_list)\n",
    "    \n",
    "    for ix in range(len(x_list)):\n",
    "        print(ix)\n",
    "        for iy in range(len(y_list)):\n",
    "        print(iy)\n",
    "        numerator = n * sum(x_list[ix] * y_list[iy]) - sum(x_list[ix]) * sum(y_list[iy])\n",
    "        denominator = (np.sqrt((n * sum(x_list[ix] ** 2)) - sum(x_list[ix]) ** 2)) * (np.sqrt((n *sum(y_list[iy] ** 2) - sum(y_list[iy]) ** 2)))\n",
    "        corelation_coefficient = numerator / denominator\n",
    "            \n",
    "    return corelation_coefficient\n",
    "\n",
    "x_list = [43, 21, 25, 42, 57, 59]\n",
    "y_list = [99, 65, 79, 75, 87, 81]\n",
    "correlation_coefficient = find_data_correlation(x_list, y_list)\n",
    "\n",
    "print(\"Correlation Coefficient:\", correlation_coefficient)\n",
    "\n",
    "\n"
   ]
  },
  {
   "cell_type": "markdown",
   "id": "0e58611d",
   "metadata": {},
   "source": []
  },
  {
   "cell_type": "code",
   "execution_count": null,
   "id": "bdec2bcc",
   "metadata": {},
   "outputs": [],
   "source": []
  }
 ],
 "metadata": {
  "kernelspec": {
   "display_name": "Python 3",
   "language": "python",
   "name": "python3"
  },
  "language_info": {
   "codemirror_mode": {
    "name": "ipython",
    "version": 3
   },
   "file_extension": ".py",
   "mimetype": "text/x-python",
   "name": "python",
   "nbconvert_exporter": "python",
   "pygments_lexer": "ipython3",
   "version": "3.13.7"
  }
 },
 "nbformat": 4,
 "nbformat_minor": 5
}
